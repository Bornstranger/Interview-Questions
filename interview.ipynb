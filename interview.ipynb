{
 "cells": [
  {
   "cell_type": "markdown",
   "metadata": {},
   "source": [
    "# Python Interview Questions - Complete Guide\n",
    "### Comprehensive collection of Python interview questions with explanations and code examples"
   ]
  },
  {
   "cell_type": "markdown",
   "metadata": {},
   "source": [
    "---\n",
    "# 1. Object-Oriented Programming (OOP)\n",
    "\n",
    "## 1.1 Four Pillars of OOP\n",
    "\n",
    "### What are the four pillars of OOP?\n",
    "\n",
    "**Answer:** The four pillars are:\n",
    "1. **Encapsulation** - Encapsulation is the process of keeping an object’s data safe by limiting direct access.\n",
    "2. **Inheritance** - Inheritance allows a class (child class) to acquire properties and methods of another class (parent class).\n",
    "3. **Polymorphism** - Ability of objects to take multiple forms and respond differently to the same method call.\n",
    "4. **Abstraction** - Hiding complex implementation details and showing only necessary features."
   ]
  },
  {
   "cell_type": "markdown",
   "metadata": {},
   "source": [
    "## 1.2 Encapsulation\n",
    "\n",
    "### What is encapsulation and how is it implemented in Python?\n",
    "\n",
    "**Answer:** Encapsulation is the process of keeping an object’s data safe by limiting direct access and allowing modification only through safe methods that you define, using public, protected, and private attributes to define access levels.\n",
    "\n",
    "## 1.2.1 Access Modifiers\n",
    "\n",
    "1. Public - Everyone can see or change them — inside or outside the class. They’re open to the world."
   ]
  },
  {
   "cell_type": "code",
   "execution_count": null,
   "id": "3d23f295",
   "metadata": {},
   "outputs": [],
   "source": [
    "class Car:\n",
    "    def __init__(self):\n",
    "        self.brand = \"Tesla\"   # public\n",
    "\n",
    "car = Car()\n",
    "print(car.brand)    # ✅ Anyone can access\n",
    "car.brand = \"BMW\"   # ✅ Anyone can modify\n",
    "print(car.brand)    # BMW\n"
   ]
  },
  {
   "cell_type": "markdown",
   "id": "fcd12624",
   "metadata": {},
   "source": [
    "2. Protected- They should not be accessed directly from outside the class, but Python still allows it. It’s just a warning, not a strict rule. They’re like: “Hey, this is not private, but please don’t touch it unless you’re careful!”"
   ]
  },
  {
   "cell_type": "code",
   "execution_count": null,
   "id": "21bbf245",
   "metadata": {},
   "outputs": [],
   "source": [
    "class Car:\n",
    "    def __init__(self):\n",
    "        self._engine_status = \"off\"  # protected\n",
    "\n",
    "    def start_engine(self):\n",
    "        self._engine_status = \"on\"\n",
    "\n",
    "class SportsCar(Car):\n",
    "    def boost(self):\n",
    "        if self._engine_status == \"on\":\n",
    "            print(\"Boost mode activated!\")\n",
    "\n",
    "car = SportsCar()\n",
    "car.start_engine()\n",
    "car.boost()  # ✅ Works\n",
    "print(car._engine_status)  # ⚠️ Allowed but not recommended\n"
   ]
  },
  {
   "cell_type": "markdown",
   "id": "18251720",
   "metadata": {},
   "source": [
    "3. Private- It is something that the class keeps completely secret. No one outside the class can directly use or change it. Python hides them by slightly changing their name internally (called name mangling) so others can’t easily access them.Private modifier in Python can still be accessed using name mangling, which means writing them as _ClassName__variable.\n",
    "\n",
    "### Name Mangling\n",
    "Python doesn’t really delete or hide your variable, it just renames it in a tricky way inside the class so others can’t easily find it."
   ]
  },
  {
   "cell_type": "markdown",
   "id": "e8c02f0a",
   "metadata": {},
   "source": [
    "It secretly changes"
   ]
  },
  {
   "cell_type": "code",
   "execution_count": null,
   "id": "3d897339",
   "metadata": {},
   "outputs": [],
   "source": [
    "self.__balance\n"
   ]
  },
  {
   "cell_type": "markdown",
   "id": "901434da",
   "metadata": {},
   "source": [
    "Into this"
   ]
  },
  {
   "cell_type": "code",
   "execution_count": null,
   "id": "660d2b38",
   "metadata": {},
   "outputs": [],
   "source": [
    "self._Account__balance\n"
   ]
  },
  {
   "cell_type": "code",
   "execution_count": null,
   "id": "5d841d76",
   "metadata": {},
   "outputs": [],
   "source": [
    "class BankAccount:\n",
    "    def __init__(self, balance):\n",
    "        self.__balance = balance\n",
    "\n",
    "    def get_balance(self):\n",
    "        return self.__balance\n",
    "\n",
    "    def set_balance(self, amount):\n",
    "        if amount >= 0:\n",
    "            self.__balance = amount\n",
    "        else:\n",
    "            print(\"Balance cannot be negative!\")\n",
    "\n",
    "account = BankAccount(100)\n",
    "account.set_balance(200)\n",
    "print(account.get_balance())\n",
    "\n"
   ]
  },
  {
   "cell_type": "markdown",
   "id": "d165896a",
   "metadata": {},
   "source": [
    "## 1.2.2 Property decorator\n",
    "A property is a special feature in a class. It lets you read or change a value safely, and quietly checks that everything is okay before doing it.\n",
    "\n",
    "### UseCase\n",
    "Without @property, if we make our class attributes private (like __balance), we have to use getter and setter methods to read or update them:\n",
    "That works, but it’s not clean — every time we want to get or set, we have to call functions.\n",
    "Using the @property decorator, we can make those getters and setters look like simple variable access — but still keep control over the data."
   ]
  },
  {
   "cell_type": "code",
   "execution_count": null,
   "id": "df8f8fb2",
   "metadata": {},
   "outputs": [],
   "source": [
    "class BankAccount:\n",
    "    def __init__(self, balance):\n",
    "        self.__balance = balance\n",
    "\n",
    "    @property\n",
    "    def balance(self):\n",
    "        \"\"\"Getter — runs when we access account.balance\"\"\"\n",
    "        return self.__balance\n",
    "\n",
    "    @balance.setter\n",
    "    def balance(self, amount):\n",
    "        \"\"\"Setter — runs when we assign new value to account.balance\"\"\"\n",
    "        if amount >= 0:\n",
    "            self.__balance = amount\n",
    "        else:\n",
    "            print(\"Balance cannot be negative!\")\n",
    "\n",
    "account = BankAccount(100)\n",
    "account.balance = 200     # setter runs automatically\n",
    "print(account.balance)    # getter runs automatically\n"
   ]
  },
  {
   "cell_type": "markdown",
   "metadata": {},
   "source": [
    "## 1.3 Inheritance\n",
    "\n",
    "### What is inheritance? Explain different types of inheritance.\n",
    "\n",
    "**Answer:** Inheritance allows a child class to inherit attributes and methods from Parent class. Types:\n",
    "1. **Single Inheritance** - A child class inherits from only one parent class.\n",
    "2. **Multiple Inheritance** - A child class inherits from multiple parent class.\n",
    "3. **Multilevel Inheritance** - The child class inherits from a parent class, which itself is a child of another class.\n",
    "4. **Hierarchical Inheritance** - Multiple child classes are inheriting from same parent class.\n",
    "5. **Hybrid Inheritance** - Combination of any two or more inheritance type from above."
   ]
  },
  {
   "cell_type": "code",
   "execution_count": null,
   "metadata": {},
   "outputs": [],
   "source": [
    "# -------------------------------\n",
    "# 1️⃣ Single Inheritance\n",
    "# -------------------------------\n",
    "class Animal:\n",
    "    def __init__(self, name):\n",
    "        self.name = name\n",
    "    \n",
    "    def speak(self):\n",
    "        return \"Some sound\"\n",
    "\n",
    "class Dog(Animal):  # Single inheritance\n",
    "    def speak(self):\n",
    "        return f\"{self.name} says Woof!\"\n",
    "\n",
    "dog = Dog(\"Buddy\")\n",
    "print(\"Single Inheritance:\")\n",
    "print(dog.speak())\n",
    "print(\"-\" * 40)\n",
    "\n",
    "\n",
    "# -------------------------------\n",
    "# 2️⃣ Multiple Inheritance\n",
    "# -------------------------------\n",
    "class Flyer:\n",
    "    def fly(self):\n",
    "        return \"Flying in the sky\"\n",
    "\n",
    "class Swimmer:\n",
    "    def swim(self):\n",
    "        return \"Swimming in water\"\n",
    "\n",
    "class Duck(Animal, Flyer, Swimmer):  # Multiple inheritance\n",
    "    def speak(self):\n",
    "        return f\"{self.name} says Quack!\"\n",
    "\n",
    "duck = Duck(\"Donald\")\n",
    "print(\"Multiple Inheritance:\")\n",
    "print(duck.speak())\n",
    "print(duck.fly())\n",
    "print(duck.swim())\n",
    "print(\"-\" * 40)\n",
    "\n",
    "\n",
    "# -------------------------------\n",
    "# 3️⃣ Multilevel Inheritance\n",
    "# -------------------------------\n",
    "\n",
    "class Grandparent:\n",
    "    def feature_grandparent(self):\n",
    "        return \"This is the Grandparent class feature\"\n",
    "\n",
    "class Parent(Grandparent):\n",
    "    def feature_parent(self):\n",
    "        return \"This is the Parent class feature\"\n",
    "\n",
    "class Child(Parent):\n",
    "    def feature_child(self):\n",
    "        return \"This is the Child class feature\"\n",
    "\n",
    "# Object of the most derived class\n",
    "child = Child()\n",
    "\n",
    "print(\"Multilevel Inheritance:\")\n",
    "print(child.feature_child())\n",
    "print(child.feature_parent())\n",
    "print(child.feature_grandparent())\n",
    "print(\"-\" * 40)\n",
    "\n",
    "\n",
    "\n",
    "# -------------------------------\n",
    "# 4️⃣ Hierarchical Inheritance\n",
    "# -------------------------------\n",
    "class Vehicle:\n",
    "    def move(self):\n",
    "        return \"Moving on the road\"\n",
    "\n",
    "class Car(Vehicle):\n",
    "    def wheels(self):\n",
    "        return \"Car has 4 wheels\"\n",
    "\n",
    "class Bike(Vehicle):\n",
    "    def wheels(self):\n",
    "        return \"Bike has 2 wheels\"\n",
    "\n",
    "car = Car()\n",
    "bike = Bike()\n",
    "\n",
    "print(\"Hierarchical Inheritance:\")\n",
    "print(car.move())\n",
    "print(car.wheels())\n",
    "print(bike.move())\n",
    "print(bike.wheels())\n",
    "print(\"-\" * 40)\n",
    "\n",
    "\n",
    "# -------------------------------\n",
    "# 5️⃣ Hybrid Inheritance (Combination)\n",
    "# -------------------------------\n",
    "class LivingBeing:\n",
    "    def breathe(self):\n",
    "        return \"All living beings breathe\"\n",
    "\n",
    "class Mammal(LivingBeing):\n",
    "    def warm_blooded(self):\n",
    "        return \"Mammals are warm-blooded\"\n",
    "\n",
    "class Bird(LivingBeing):\n",
    "    def lay_eggs(self):\n",
    "        return \"Birds lay eggs\"\n",
    "\n",
    "class Bat(Mammal, Bird):  # Hybrid (Multiple + Multilevel)\n",
    "    def special(self):\n",
    "        return \"Bats can fly and are mammals\"\n",
    "\n",
    "bat = Bat()\n",
    "print(\"Hybrid Inheritance:\")\n",
    "print(bat.breathe())\n",
    "print(bat.warm_blooded())\n",
    "print(bat.lay_eggs())\n",
    "print(bat.special())\n",
    "print(\"-\" * 40)\n"
   ]
  },
  {
   "cell_type": "markdown",
   "metadata": {},
   "source": [
    "## 1.4 Polymorphism\n",
    "\n",
    "### What is polymorphism? Explain method overriding and method overloading.\n",
    "\n",
    "**Answer:** Polymorphism means \"many forms\". It allows objects of different classes to be treated through the same interface.\n",
    "### A. Method Overriding:\n",
    "When a child class defines a method with the same name and parameters as a method in its parent class, it overrides the parent’s method. The child class version is called instead of the parent’s version.\n",
    "### B. Method Overloading: \n",
    "Having multiple methods with the same name but different parameters in the same class.\n",
    "Python doesn't support traditional overloading, but can use default arguments or *args/**kwargs."
   ]
  },
  {
   "cell_type": "code",
   "execution_count": null,
   "metadata": {},
   "outputs": [
    {
     "name": "stdout",
     "output_type": "stream",
     "text": [
      "1.0006678104400635\n"
     ]
    }
   ],
   "source": [
    "# Method Overriding\n",
    "class Animal:\n",
    "    def speak(self):\n",
    "        return \"Some sound\"\n",
    "\n",
    "class Dog(Animal):\n",
    "    def speak(self):  # overriding the parent method\n",
    "        return \"Woof!\"\n",
    "\n",
    "dog = Dog()\n",
    "print(dog.speak())  # Output: Woof!\n",
    "\n",
    "# Method Overloading (Python way)\n",
    "\n",
    "# This will raise an error because the second definition overwrites the first one\n",
    "# TypeError: Calculator.add() missing 1 required positional argument: 'c'\n",
    "class Calculator:\n",
    "\n",
    "    def add(self, a, b):\n",
    "        return a + b\n",
    "    def add(self, a, b, c):\n",
    "        return a + b + c\n",
    "    # def add(self, a, b=0, c=0):\n",
    "    #     return a + b + c\n",
    "\n",
    "calc = Calculator()\n",
    "# print(calc.add(5))\n",
    "# print(calc.add(5, 10))  # TypeError: Calculator.add() missing 1 required positional argument: 'c'\n",
    "# print(calc.add(5, 10, 15))"
   ]
  },
  {
   "cell_type": "markdown",
   "metadata": {},
   "source": [
    "## 1.5 Abstraction\n",
    "\n",
    "### What is abstraction? How to implement abstract classes in Python?\n",
    "\n",
    "**Answer:** Abstraction hides the complex working details of a class and only shows the essential features that are needed to use it.\n",
    "It helps you focus on the behavior of an object rather than its implementation. In Python, abstraction is achieved using the abc (Abstract Base Class) module."
   ]
  },
  {
   "cell_type": "code",
   "execution_count": null,
   "metadata": {},
   "outputs": [],
   "source": [
    "from abc import ABC, abstractmethod\n",
    "\n",
    "class Vehicle(ABC):\n",
    "    @abstractmethod\n",
    "    def start(self):\n",
    "        pass\n",
    "    \n",
    "    @abstractmethod\n",
    "    def stop(self):\n",
    "        pass\n",
    "    \n",
    "    def description(self):\n",
    "        return \"This is a vehicle\"\n",
    "\n",
    "class Car(Vehicle):\n",
    "    def start(self):\n",
    "        return \"Car engine started\"\n",
    "    \n",
    "    def stop(self):\n",
    "        return \"Car engine stopped\"\n",
    "\n",
    "# vehicle = Vehicle()  # TypeError: Can't instantiate abstract class\n",
    "car = Car()\n",
    "print(car.start())\n",
    "print(car.stop())\n",
    "print(car.description())"
   ]
  },
  {
   "cell_type": "markdown",
   "id": "3093d103",
   "metadata": {},
   "source": [
    "## 1.6.1 Static Method\n",
    "Static method is a function that lives inside the class but doesn’t care about the class’s data.\n",
    "Works like a regular function but grouped logically inside a class.\n",
    "- No self\n",
    "- No cls"
   ]
  },
  {
   "cell_type": "code",
   "execution_count": null,
   "id": "4f5777b9",
   "metadata": {},
   "outputs": [],
   "source": [
    "class MathTools:\n",
    "    @staticmethod\n",
    "    def add(a, b):\n",
    "        return a + b\n",
    "\n",
    "# You can call it using the class name\n",
    "print(MathTools.add(5, 3))  # Output: 8\n"
   ]
  },
  {
   "cell_type": "markdown",
   "id": "eea7c4fb",
   "metadata": {},
   "source": [
    "## 1.6.2 Class Method\n",
    "A class method is a function that works with the class itself instead of an object. It takes cls (the class) as its first argument."
   ]
  },
  {
   "cell_type": "code",
   "execution_count": null,
   "id": "c1642354",
   "metadata": {},
   "outputs": [],
   "source": [
    "class Student:\n",
    "    school_name = \"Green Valley School\"  # class variable\n",
    "\n",
    "    def __init__(self, name):\n",
    "        self.name = name\n",
    "\n",
    "    @classmethod\n",
    "    def change_school(cls, new_name):\n",
    "        cls.school_name = new_name  # changes class variable\n",
    "\n",
    "Student.change_school(\"Sunrise Public School\")\n",
    "print(Student.school_name)  # Output: Sunrise Public School\n"
   ]
  },
  {
   "cell_type": "markdown",
   "id": "34bfece5",
   "metadata": {},
   "source": [
    "### Real World Example"
   ]
  },
  {
   "cell_type": "code",
   "execution_count": null,
   "id": "743b7773",
   "metadata": {},
   "outputs": [],
   "source": [
    "class Employee:\n",
    "    company_name = \"TechCorp\"\n",
    "\n",
    "    def __init__(self, name, salary):\n",
    "        self.name = name\n",
    "        self.salary = salary\n",
    "\n",
    "    @classmethod\n",
    "    def change_company(cls, new_name):\n",
    "        cls.company_name = new_name  # changes for all employees\n",
    "\n",
    "    @staticmethod\n",
    "    def is_valid_salary(salary):\n",
    "        return salary > 0  # just checks data, doesn’t depend on class\n",
    "\n",
    "# Using classmethod\n",
    "Employee.change_company(\"InnovateX\")\n",
    "\n",
    "# Using staticmethod\n",
    "print(Employee.is_valid_salary(50000))  # True\n"
   ]
  },
  {
   "cell_type": "markdown",
   "id": "91231c67",
   "metadata": {},
   "source": [
    "## 1.7 MRO(Method Resolution Order)\n",
    "MRO is the path Python follows to find which method or attribute to use when there are multiple inherited classes. MRO becomes important when we use inheritance, especially multiple inheritance (a class inherits from more than one parent).\n",
    "It helps Python avoid confusion and repetition — it decides which parent’s method to run first.\n",
    "\n",
    "### C3 Linearization\n",
    "C3 Linearization is the algorithm Python uses to calculate the MRO. It decides which class comes first when Python looks for methods in multiple inheritance situations. It make sure the MRO is consistent, left-to-right, and without duplicates."
   ]
  },
  {
   "cell_type": "code",
   "execution_count": 1,
   "id": "9c728b5c",
   "metadata": {},
   "outputs": [
    {
     "name": "stdout",
     "output_type": "stream",
     "text": [
      "Running process() from class B\n",
      "[<class '__main__.D'>, <class '__main__.B'>, <class '__main__.C'>, <class '__main__.A'>, <class 'object'>]\n"
     ]
    }
   ],
   "source": [
    "\n",
    "# Base class A\n",
    "class A:\n",
    "    def process(self):\n",
    "        print(\"Running process() from class A\")\n",
    "\n",
    "# Class B inherits from A\n",
    "class B(A):\n",
    "    def process(self):\n",
    "        print(\"Running process() from class B\")\n",
    "\n",
    "# Class C also inherits from A\n",
    "class C(A):\n",
    "    def process(self):\n",
    "        print(\"Running process() from class C\")\n",
    "\n",
    "# Class D inherits from both B and C\n",
    "class D(B, C):\n",
    "    pass   # D doesn't define process(), so Python will look in its parents\n",
    "\n",
    "# Create object of D\n",
    "obj = D()\n",
    "\n",
    "# When calling process(), Python must decide which one to run (B’s or C’s?)\n",
    "obj.process()\n",
    "\n",
    "# Let's see the MRO order Python uses\n",
    "print(D.mro())\n"
   ]
  },
  {
   "cell_type": "markdown",
   "id": "e2fd0993",
   "metadata": {},
   "source": [
    "## 1.8 Super\n",
    "Super() lets a child class use something from its parent, like calling the parent’s method — and Python decides which parent to use first by following the MRO order. It lets us reuse parent methods without repeating code. It helps multiple inheritance work correctly (by following MRO)."
   ]
  },
  {
   "cell_type": "code",
   "execution_count": null,
   "id": "5163719a",
   "metadata": {},
   "outputs": [],
   "source": [
    "class A:\n",
    "    def show(self):\n",
    "        print(\"A\")\n",
    "\n",
    "class B(A):\n",
    "    def show(self):\n",
    "        print(\"B\")\n",
    "        super().show()   # Calls the next in MRO, not directly A\n",
    "\n",
    "class C(A):\n",
    "    def show(self):\n",
    "        print(\"C\")\n",
    "        super().show()\n",
    "\n",
    "class D(B, C):  # Multiple inheritance\n",
    "    def show(self):\n",
    "        print(\"D\")\n",
    "        super().show()   # Uses MRO to decide what comes next\n",
    "\n",
    "obj = D()\n",
    "obj.show()\n",
    "\n",
    "# Print the MRO to see the order Python follows\n",
    "print(D.mro())\n"
   ]
  },
  {
   "cell_type": "markdown",
   "id": "733b6922",
   "metadata": {},
   "source": [
    "## 1.9 Dunder Methods\n",
    "Dunder methods are special methods in Python whose names start and end with double underscores — like __init__, __str__, __len__, __add__, etc. “Dunder” means “double underscore”. \n",
    "They make your objects behave like built-in Python types — for example:\n",
    "- Adding two numbers (+)\n",
    "- Printing something nicely (print())\n",
    "- Getting the length (len())\n",
    "They start with __ and end with __, so Python knows they are special."
   ]
  },
  {
   "cell_type": "code",
   "execution_count": null,
   "id": "9282b1e9",
   "metadata": {},
   "outputs": [],
   "source": [
    "# This method runs automatically when you create an object.\n",
    "class Dog:\n",
    "    def __init__(self, name):\n",
    "        self.name = name\n",
    "\n",
    "dog1 = Dog(\"Rocky\")  # __init__ runs automatically here\n",
    "print(dog1.name)\n",
    "\n",
    "# This makes your object look nice when you print it.\n",
    "\n",
    "class Dog:\n",
    "    def __init__(self, name):\n",
    "        self.name = name\n",
    "\n",
    "    def __str__(self):\n",
    "        return f\"This is {self.name}!\"\n",
    "\n",
    "dog1 = Dog(\"Rocky\")\n",
    "print(dog1)\n"
   ]
  },
  {
   "cell_type": "markdown",
   "id": "8c2d0e19",
   "metadata": {},
   "source": [
    "## 1.10 Metaclass\n",
    "A metaclass is the class that creates classes. just like a class creates objects.\n",
    "A class is like a blueprint to create houses (objects).\n",
    "and a metaclass is like the factory that makes those blueprints.\n",
    "By default, every class is made by the metaclass type."
   ]
  },
  {
   "cell_type": "code",
   "execution_count": null,
   "id": "034002da",
   "metadata": {},
   "outputs": [],
   "source": [
    "# Everything in Python is an object, even classes\n",
    "print(type(10))        # int\n",
    "print(type(\"Hello\"))   # str\n",
    "print(type([1, 2]))    # list\n",
    "\n",
    "# But what about a class?\n",
    "class Dog:\n",
    "    pass\n",
    "\n",
    "print(type(Dog))       # <class 'type'>\n"
   ]
  },
  {
   "cell_type": "markdown",
   "id": "7795e120",
   "metadata": {},
   "source": [
    "### Use case of Metaclass\n",
    "We use metaclasses when we want to control how classes behave — for example, automatically adding or checking things when a class is created. Imagine you want every class in your project to have a method called info().\n",
    "You can make a metaclass that automatically adds it to every new class."
   ]
  },
  {
   "cell_type": "markdown",
   "id": "c627f5f6",
   "metadata": {},
   "source": [
    "### Custom Metaclass\n",
    "You can make your own metaclass by inheriting from type and overriding the __new__ or __init__ methods."
   ]
  },
  {
   "cell_type": "code",
   "execution_count": null,
   "id": "ba55f9f2",
   "metadata": {},
   "outputs": [],
   "source": [
    "# Custom metaclass\n",
    "class MyMeta(type):\n",
    "    def __new__(cls, name, bases, attrs):\n",
    "        print(f\"Creating class: {name}\")\n",
    "        # Automatically add a new method to every class made by this metaclass\n",
    "        attrs['greet'] = lambda self: print(f\"Hello from {name}!\")\n",
    "        return super().__new__(cls, name, bases, attrs)\n",
    "\n",
    "# Class using our metaclass\n",
    "class MyClass(metaclass=MyMeta):\n",
    "    pass\n",
    "\n",
    "# Object of the class\n",
    "obj = MyClass()\n",
    "obj.greet()\n"
   ]
  },
  {
   "cell_type": "markdown",
   "id": "0f76d368",
   "metadata": {},
   "source": [
    "### __new__ and __init__ in metaclass\n",
    "__new__ → runs before the class is created (used to modify the class)\n",
    "\n",
    "__init__ → runs after the class is created (used to adjust things)"
   ]
  },
  {
   "cell_type": "code",
   "execution_count": null,
   "id": "2f6451cf",
   "metadata": {},
   "outputs": [],
   "source": [
    "# A registry to store all model classes\n",
    "registry = {}\n",
    "\n",
    "class ModelMeta(type):\n",
    "    def __new__(cls, name, bases, attrs):\n",
    "        new_class = super().__new__(cls, name, bases, attrs)\n",
    "        registry[name] = new_class\n",
    "        return new_class\n",
    "\n",
    "class User(metaclass=ModelMeta):\n",
    "    pass\n",
    "\n",
    "class Product(metaclass=ModelMeta):\n",
    "    pass\n",
    "\n",
    "print(registry)\n"
   ]
  },
  {
   "cell_type": "markdown",
   "id": "0c9f4b7a",
   "metadata": {},
   "source": [
    "## 1.11 Context Manager\n",
    "A Context Manager is a tool in Python that helps you set things up, use them safely, and then clean them up automatically — even if something goes wrong. It opens resources, lets you use them, and closes them automatically afterward."
   ]
  },
  {
   "cell_type": "code",
   "execution_count": null,
   "id": "4302e23c",
   "metadata": {},
   "outputs": [],
   "source": [
    "# Without context manager\n",
    "file = open(\"data.txt\", \"r\")\n",
    "content = file.read()\n",
    "file.close()  # ❗ If you forget this, file stays open!\n",
    "\n",
    "# With context manager\n",
    "with open(\"data.txt\", \"r\") as file:\n",
    "    content = file.read()   # ✅ File is automatically closed afterward\n"
   ]
  },
  {
   "cell_type": "markdown",
   "id": "67619228",
   "metadata": {},
   "source": [
    "### Types of Context Manager\n",
    "\n",
    "1. Class based Context Manager- It is made using a class with special (dunder) methods. A class-based context manager has two dunder methods —\n",
    "one for starting work (__enter__) and one for finishing work (__exit__).\n",
    "Python implements those methods automatically when you use a with block."
   ]
  },
  {
   "cell_type": "code",
   "execution_count": null,
   "id": "a5874bf2",
   "metadata": {},
   "outputs": [],
   "source": [
    "class MyContext:\n",
    "    def __enter__(self):\n",
    "        print(\"Starting work...\")\n",
    "        return \"Hello from __enter__!\"\n",
    "\n",
    "    def __exit__(self, exc_type, exc_value, traceback):\n",
    "        print(\"Cleaning up after work...\")\n",
    "\n",
    "# Using the context manager\n",
    "with MyContext() as msg:\n",
    "    print(msg)\n"
   ]
  },
  {
   "cell_type": "markdown",
   "id": "ba534d70",
   "metadata": {},
   "source": [
    "2. Function-based Context Manager-\n",
    "A function-based context manager is like writing a short story 📖\n",
    "with a beginning (setup), a middle (work), and an ending (cleanup).\n",
    "You use the @contextmanager decorator and the word yield to split the story."
   ]
  },
  {
   "cell_type": "code",
   "execution_count": null,
   "id": "cc4154e4",
   "metadata": {},
   "outputs": [],
   "source": [
    "from contextlib import contextmanager\n",
    "\n",
    "@contextmanager\n",
    "def my_context():\n",
    "    print(\"Starting work...\")   # before yield → setup\n",
    "    yield \"Hello from yield!\"   # give control to 'with' block\n",
    "    print(\"Cleaning up...\")     # after yield → cleanup\n",
    "\n",
    "# Using it\n",
    "with my_context() as msg:\n",
    "    print(msg)\n"
   ]
  },
  {
   "cell_type": "markdown",
   "id": "f41e407d",
   "metadata": {},
   "source": [
    "### Real life use cases of Context Manager\n",
    "- file handling =\tOpening and closing files automatically\n",
    "- Database connections =\tOpening DB connection and closing it safely\n",
    "- Network connections =\tManaging sockets\n",
    "- Lock handling (Concurrency) =\tAutomatically acquiring and releasing locks\n",
    "- Temporary changes =\tChanging a directory, environment variable, etc."
   ]
  },
  {
   "cell_type": "markdown",
   "id": "bb0635ae",
   "metadata": {},
   "source": [
    "### Best practices for using Context Manager\n",
    "- ✅ Always use with when opening files or network connections=\tPrevents resource leaks\n",
    "- ✅ Use contextlib.contextmanager for simple cases=\tMakes code cleaner\n",
    "- ✅ Keep setup and cleanup logic short=\tEasier to debug\n",
    "- ⚠️ Don’t ignore errors silently=\tHandle exceptions inside __exit__() properly\n",
    "- ✅ Reuse context managers for similar resources=\tPromotes clean code and DRY principle"
   ]
  },
  {
   "cell_type": "markdown",
   "metadata": {},
   "source": [
    "---\n",
    "# 2. Data Structures\n",
    "\n",
    "## 2.1 Lists\n",
    "\n",
    "### What are lists? How do they differ from tuples?\n",
    "\n",
    "**Answer:** Lists are mutable, ordered collections that can contain elements of different types. They support indexing, slicing, and various methods. Tuples are immutable versions of lists."
   ]
  },
  {
   "cell_type": "code",
   "execution_count": null,
   "metadata": {},
   "outputs": [],
   "source": [
    "# List operations\n",
    "my_list = [1, 2, 3, 4, 5]\n",
    "\n",
    "# Append and extend\n",
    "my_list.append(6)\n",
    "my_list.extend([7, 8])\n",
    "print(\"After append/extend:\", my_list)\n",
    "\n",
    "# Insert and remove\n",
    "my_list.insert(0, 0)\n",
    "my_list.remove(4)\n",
    "print(\"After insert/remove:\", my_list)\n",
    "\n",
    "# Slicing\n",
    "print(\"Slice [2:5]:\", my_list[2:5])\n",
    "print(\"Reverse:\", my_list[::-1])\n",
    "\n",
    "# List comprehension\n",
    "squares = [x**2 for x in range(1, 6)]\n",
    "print(\"Squares:\", squares)\n",
    "\n",
    "# Filter with condition\n",
    "evens = [x for x in range(1, 11) if x % 2 == 0]\n",
    "print(\"Evens:\", evens)"
   ]
  },
  {
   "cell_type": "markdown",
   "metadata": {},
   "source": [
    "## 2.2 Dictionaries\n",
    "\n",
    "### What are dictionaries? What are common operations?\n",
    "\n",
    "**Answer:** Dictionaries are unordered collections of key-value pairs. Keys must be immutable and unique."
   ]
  },
  {
   "cell_type": "code",
   "execution_count": null,
   "metadata": {},
   "outputs": [],
   "source": [
    "# Dictionary operations\n",
    "student = {\n",
    "    \"name\": \"John\",\n",
    "    \"age\": 20,\n",
    "    \"grades\": [85, 90, 92]\n",
    "}\n",
    "\n",
    "# Access and modify\n",
    "print(\"Name:\", student[\"name\"])\n",
    "print(\"Age:\", student.get(\"age\", \"Not found\"))\n",
    "student[\"major\"] = \"Computer Science\"\n",
    "\n",
    "# Keys, values, items\n",
    "print(\"Keys:\", student.keys())\n",
    "print(\"Values:\", student.values())\n",
    "print(\"Items:\", student.items())\n",
    "\n",
    "# Dictionary comprehension\n",
    "squared = {x: x**2 for x in range(1, 6)}\n",
    "print(\"Squared dict:\", squared)\n",
    "\n",
    "# Merge dictionaries (Python 3.9+)\n",
    "dict1 = {\"a\": 1, \"b\": 2}\n",
    "dict2 = {\"c\": 3, \"d\": 4}\n",
    "merged = dict1 | dict2\n",
    "print(\"Merged:\", merged)"
   ]
  },
  {
   "cell_type": "markdown",
   "metadata": {},
   "source": [
    "## 2.3 Sets\n",
    "\n",
    "### What are sets? What are their use cases?\n",
    "\n",
    "**Answer:** Sets are unordered collections of unique elements. Useful for removing duplicates and set operations (union, intersection, difference)."
   ]
  },
  {
   "cell_type": "code",
   "execution_count": null,
   "metadata": {},
   "outputs": [],
   "source": [
    "# Set operations\n",
    "set1 = {1, 2, 3, 4, 5}\n",
    "set2 = {4, 5, 6, 7, 8}\n",
    "\n",
    "# Basic operations\n",
    "print(\"Union:\", set1 | set2)\n",
    "print(\"Intersection:\", set1 & set2)\n",
    "print(\"Difference:\", set1 - set2)\n",
    "print(\"Symmetric Difference:\", set1 ^ set2)\n",
    "\n",
    "# Remove duplicates\n",
    "numbers = [1, 2, 2, 3, 3, 3, 4, 4, 5]\n",
    "unique = list(set(numbers))\n",
    "print(\"Unique:\", unique)\n",
    "\n",
    "# Set comprehension\n",
    "even_squares = {x**2 for x in range(1, 11) if x % 2 == 0}\n",
    "print(\"Even squares:\", even_squares)"
   ]
  },
  {
   "cell_type": "markdown",
   "metadata": {},
   "source": [
    "---\n",
    "# 3. Functions and Decorators\n",
    "\n",
    "## 3.1 Function Arguments\n",
    "\n",
    "### What are *args and **kwargs?\n",
    "\n",
    "**Answer:** \n",
    "- `*args` - Allows function to accept variable number of positional arguments\n",
    "- `**kwargs` - Allows function to accept variable number of keyword arguments"
   ]
  },
  {
   "cell_type": "code",
   "execution_count": null,
   "metadata": {},
   "outputs": [],
   "source": [
    "# *args example\n",
    "def sum_all(*args):\n",
    "    return sum(args)\n",
    "\n",
    "print(sum_all(1, 2, 3))  # 6\n",
    "print(sum_all(1, 2, 3, 4, 5))  # 15\n",
    "\n",
    "# **kwargs example\n",
    "def print_info(**kwargs):\n",
    "    for key, value in kwargs.items():\n",
    "        print(f\"{key}: {value}\")\n",
    "\n",
    "print_info(name=\"John\", age=25, city=\"New York\")\n",
    "\n",
    "# Combining both\n",
    "def flexible_function(*args, **kwargs):\n",
    "    print(\"Positional:\", args)\n",
    "    print(\"Keyword:\", kwargs)\n",
    "\n",
    "flexible_function(1, 2, 3, name=\"Alice\", age=30)"
   ]
  },
  {
   "cell_type": "markdown",
   "metadata": {},
   "source": [
    "## 3.2 Lambda Functions\n",
    "\n",
    "### What are lambda functions? When to use them?\n",
    "\n",
    "**Answer:** Lambda functions are anonymous, single-expression functions. Use them for short, simple operations, especially with map(), filter(), and sorted()."
   ]
  },
  {
   "cell_type": "code",
   "execution_count": null,
   "metadata": {},
   "outputs": [],
   "source": [
    "# Basic lambda\n",
    "square = lambda x: x**2\n",
    "print(square(5))\n",
    "\n",
    "# With map()\n",
    "numbers = [1, 2, 3, 4, 5]\n",
    "squared = list(map(lambda x: x**2, numbers))\n",
    "print(\"Squared:\", squared)\n",
    "\n",
    "# With filter()\n",
    "evens = list(filter(lambda x: x % 2 == 0, numbers))\n",
    "print(\"Evens:\", evens)\n",
    "\n",
    "# With sorted()\n",
    "students = [(\"Alice\", 85), (\"Bob\", 92), (\"Charlie\", 78)]\n",
    "sorted_by_grade = sorted(students, key=lambda x: x[1], reverse=True)\n",
    "print(\"Sorted by grade:\", sorted_by_grade)"
   ]
  },
  {
   "cell_type": "markdown",
   "metadata": {},
   "source": [
    "## 3.3 Decorators\n",
    "\n",
    "### What are decorators? How do they work?\n",
    "\n",
    "**Answer:** Decorators are functions that modify the behavior of other functions. They wrap another function and extend its behavior without permanently modifying it."
   ]
  },
  {
   "cell_type": "code",
   "execution_count": null,
   "metadata": {},
   "outputs": [],
   "source": [
    "import time\n",
    "\n",
    "# Simple decorator\n",
    "def timer_decorator(func):\n",
    "    def wrapper(*args, **kwargs):\n",
    "        start = time.time()\n",
    "        result = func(*args, **kwargs)\n",
    "        end = time.time()\n",
    "        print(f\"{func.__name__} took {end - start:.4f} seconds\")\n",
    "        return result\n",
    "    return wrapper\n",
    "\n",
    "@timer_decorator\n",
    "def slow_function():\n",
    "    time.sleep(1)\n",
    "    return \"Done\"\n",
    "\n",
    "print(slow_function())\n",
    "\n",
    "# Decorator with arguments\n",
    "def repeat(times):\n",
    "    def decorator(func):\n",
    "        def wrapper(*args, **kwargs):\n",
    "            for _ in range(times):\n",
    "                result = func(*args, **kwargs)\n",
    "            return result\n",
    "        return wrapper\n",
    "    return decorator\n",
    "\n",
    "@repeat(3)\n",
    "def greet(name):\n",
    "    print(f\"Hello, {name}!\")\n",
    "\n",
    "greet(\"Alice\")"
   ]
  },
  {
   "cell_type": "markdown",
   "metadata": {},
   "source": [
    "---\n",
    "# 4. Generators and Iterators\n",
    "\n",
    "## 4.1 Generators\n",
    "\n",
    "### What are generators? How do they differ from regular functions?\n",
    "\n",
    "**Answer:** Generators are functions that use `yield` instead of `return`. They generate values on-the-fly and maintain state between calls, making them memory-efficient for large datasets."
   ]
  },
  {
   "cell_type": "code",
   "execution_count": null,
   "metadata": {},
   "outputs": [],
   "source": [
    "# Simple generator\n",
    "def countdown(n):\n",
    "    while n > 0:\n",
    "        yield n\n",
    "        n -= 1\n",
    "\n",
    "for num in countdown(5):\n",
    "    print(num)\n",
    "\n",
    "# Fibonacci generator\n",
    "def fibonacci(n):\n",
    "    a, b = 0, 1\n",
    "    for _ in range(n):\n",
    "        yield a\n",
    "        a, b = b, a + b\n",
    "\n",
    "print(\"Fibonacci:\", list(fibonacci(10)))\n",
    "\n",
    "# Generator expression\n",
    "squares_gen = (x**2 for x in range(1, 6))\n",
    "print(\"Squares:\", list(squares_gen))\n",
    "\n",
    "# Memory efficiency comparison\n",
    "import sys\n",
    "list_comp = [x**2 for x in range(1000)]\n",
    "gen_exp = (x**2 for x in range(1000))\n",
    "print(f\"List size: {sys.getsizeof(list_comp)} bytes\")\n",
    "print(f\"Generator size: {sys.getsizeof(gen_exp)} bytes\")"
   ]
  },
  {
   "cell_type": "markdown",
   "metadata": {},
   "source": [
    "## 4.2 Iterators\n",
    "\n",
    "### What are iterators? How to create custom iterators?\n",
    "\n",
    "**Answer:** Iterators are objects that implement `__iter__()` and `__next__()` methods. They allow iteration over a sequence of values."
   ]
  },
  {
   "cell_type": "code",
   "execution_count": null,
   "metadata": {},
   "outputs": [],
   "source": [
    "# Custom iterator\n",
    "class Counter:\n",
    "    def __init__(self, start, end):\n",
    "        self.current = start\n",
    "        self.end = end\n",
    "    \n",
    "    def __iter__(self):\n",
    "        return self\n",
    "    \n",
    "    def __next__(self):\n",
    "        if self.current > self.end:\n",
    "            raise StopIteration\n",
    "        self.current += 1\n",
    "        return self.current - 1\n",
    "\n",
    "counter = Counter(1, 5)\n",
    "for num in counter:\n",
    "    print(num)\n",
    "\n",
    "# Using iter() and next()\n",
    "my_list = [1, 2, 3]\n",
    "iterator = iter(my_list)\n",
    "print(next(iterator))  # 1\n",
    "print(next(iterator))  # 2"
   ]
  },
  {
   "cell_type": "markdown",
   "metadata": {},
   "source": [
    "---\n",
    "# 5. Exception Handling\n",
    "\n",
    "## 5.1 Try-Except Blocks\n",
    "\n",
    "### How does exception handling work in Python?\n",
    "\n",
    "**Answer:** Python uses try-except blocks to catch and handle exceptions. The try block contains code that might raise an exception, and except blocks handle specific exceptions."
   ]
  },
  {
   "cell_type": "code",
   "execution_count": 1,
   "metadata": {},
   "outputs": [
    {
     "name": "stdout",
     "output_type": "stream",
     "text": [
      "Cannot divide by zero!\n",
      "Error: invalid literal for int() with base 10: 'abc'\n",
      "Division successful\n",
      "Cleanup code executed\n",
      "5.0\n",
      "Cannot divide by zero\n",
      "Cleanup code executed\n",
      "None\n"
     ]
    }
   ],
   "source": [
    "# Basic exception handling\n",
    "try:\n",
    "    result = 10 / 0\n",
    "except ZeroDivisionError:\n",
    "    print(\"Cannot divide by zero!\")\n",
    "\n",
    "# Multiple exceptions\n",
    "try:\n",
    "    num = int(\"abc\")\n",
    "except (ValueError, TypeError) as e:\n",
    "    print(f\"Error: {e}\")\n",
    "\n",
    "# Try-except-else-finally\n",
    "def divide(a, b):\n",
    "    try:\n",
    "        result = a / b\n",
    "    except ZeroDivisionError:\n",
    "        print(\"Cannot divide by zero\")\n",
    "        return None\n",
    "    else:\n",
    "        print(\"Division successful\")\n",
    "        return result\n",
    "    finally:\n",
    "        print(\"Cleanup code executed\")\n",
    "\n",
    "print(divide(10, 2))\n",
    "print(divide(10, 0))"
   ]
  },
  {
   "cell_type": "markdown",
   "metadata": {},
   "source": [
    "## 5.2 Custom Exceptions\n",
    "\n",
    "### How to create custom exceptions?\n",
    "\n",
    "**Answer:** Create custom exceptions by inheriting from the Exception class or its subclasses."
   ]
  },
  {
   "cell_type": "code",
   "execution_count": null,
   "metadata": {},
   "outputs": [],
   "source": [
    "# Custom exception\n",
    "class InsufficientFundsError(Exception):\n",
    "    def __init__(self, balance, amount):\n",
    "        self.balance = balance\n",
    "        self.amount = amount\n",
    "        super().__init__(f\"Insufficient funds: balance={balance}, needed={amount}\")\n",
    "\n",
    "class BankAccount:\n",
    "    def __init__(self, balance):\n",
    "        self.balance = balance\n",
    "    \n",
    "    def withdraw(self, amount):\n",
    "        if amount > self.balance:\n",
    "            raise InsufficientFundsError(self.balance, amount)\n",
    "        self.balance -= amount\n",
    "        return self.balance\n",
    "\n",
    "account = BankAccount(100)\n",
    "try:\n",
    "    account.withdraw(150)\n",
    "except InsufficientFundsError as e:\n",
    "    print(f\"Error: {e}\")"
   ]
  },
  {
   "cell_type": "markdown",
   "metadata": {},
   "source": [
    "---\n",
    "# 6. File Handling\n",
    "\n",
    "## 6.1 Reading and Writing Files\n",
    "\n",
    "### How to read and write files in Python?\n",
    "\n",
    "**Answer:** Use the `open()` function with modes: 'r' (read), 'w' (write), 'a' (append), 'r+' (read/write). Always use context managers (with statement) for automatic cleanup."
   ]
  },
  {
   "cell_type": "code",
   "execution_count": null,
   "metadata": {},
   "outputs": [],
   "source": [
    "# Writing to file\n",
    "with open('example.txt', 'w') as f:\n",
    "    f.write(\"Hello, World!\\n\")\n",
    "    f.write(\"Python file handling\\n\")\n",
    "\n",
    "# Reading from file\n",
    "with open('example.txt', 'r') as f:\n",
    "    content = f.read()\n",
    "    print(\"File content:\")\n",
    "    print(content)\n",
    "\n",
    "# Reading line by line\n",
    "with open('example.txt', 'r') as f:\n",
    "    for line in f:\n",
    "        print(line.strip())\n",
    "\n",
    "# Appending to file\n",
    "with open('example.txt', 'a') as f:\n",
    "    f.write(\"Appended line\\n\")\n",
    "\n",
    "# Reading all lines into a list\n",
    "with open('example.txt', 'r') as f:\n",
    "    lines = f.readlines()\n",
    "    print(\"Lines:\", lines)"
   ]
  },
  {
   "cell_type": "markdown",
   "metadata": {},
   "source": [
    "## 6.2 Working with CSV and JSON\n",
    "\n",
    "### How to work with CSV and JSON files?\n",
    "\n",
    "**Answer:** Python provides `csv` and `json` modules for handling these common file formats."
   ]
  }
 ],
 "metadata": {
  "kernelspec": {
   "display_name": "Python 3",
   "language": "python",
   "name": "python3"
  },
  "language_info": {
   "codemirror_mode": {
    "name": "ipython",
    "version": 3
   },
   "file_extension": ".py",
   "mimetype": "text/x-python",
   "name": "python",
   "nbconvert_exporter": "python",
   "pygments_lexer": "ipython3",
   "version": "3.13.7"
  }
 },
 "nbformat": 4,
 "nbformat_minor": 5
}
