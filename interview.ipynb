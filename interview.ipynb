{
 "cells": [
  {
   "cell_type": "markdown",
   "metadata": {},
   "source": [
    "# Python Interview Questions - Complete Guide\n",
    "### Comprehensive collection of Python interview questions with explanations and code examples"
   ]
  },
  {
   "cell_type": "markdown",
   "metadata": {},
   "source": [
    "---\n",
    "# 1. Object-Oriented Programming (OOP)\n",
    "\n",
    "## 1.1 Four Pillars of OOP\n",
    "\n",
    "### What are the four pillars of OOP?\n",
    "\n",
    "**Answer:** The four pillars are:\n",
    "1. **Encapsulation** - Encapsulation is the process of keeping an object’s data safe by limiting direct access.\n",
    "2. **Inheritance** - Inheritance allows a class (child class) to acquire properties and methods of another class (parent class).\n",
    "3. **Polymorphism** - Ability of objects to take multiple forms and respond differently to the same method call.\n",
    "4. **Abstraction** - Hiding complex implementation details and showing only necessary features."
   ]
  },
  {
   "cell_type": "markdown",
   "metadata": {},
   "source": [
    "## 1.2 Encapsulation\n",
    "\n",
    "### What is encapsulation and how is it implemented in Python?\n",
    "\n",
    "**Answer:** Encapsulation is the process of keeping an object’s data safe by limiting direct access and allowing modification only through safe methods that you define, using public, protected, and private attributes to define access levels.\n",
    "\n",
    "## 1.2.1 Access Modifiers\n",
    "\n",
    "1. Public - Everyone can see or change them — inside or outside the class. They’re open to the world."
   ]
  },
  {
   "cell_type": "code",
   "execution_count": null,
   "id": "3d23f295",
   "metadata": {},
   "outputs": [],
   "source": [
    "class Car:\n",
    "    def __init__(self):\n",
    "        self.brand = \"Tesla\"   # public\n",
    "\n",
    "car = Car()\n",
    "print(car.brand)    # ✅ Anyone can access\n",
    "car.brand = \"BMW\"   # ✅ Anyone can modify\n",
    "print(car.brand)    # BMW\n"
   ]
  },
  {
   "cell_type": "markdown",
   "id": "fcd12624",
   "metadata": {},
   "source": [
    "2. Protected- They should not be accessed directly from outside the class, but Python still allows it. It’s just a warning, not a strict rule. They’re like: “Hey, this is not private, but please don’t touch it unless you’re careful!”"
   ]
  },
  {
   "cell_type": "code",
   "execution_count": null,
   "id": "21bbf245",
   "metadata": {},
   "outputs": [],
   "source": [
    "class Car:\n",
    "    def __init__(self):\n",
    "        self._engine_status = \"off\"  # protected\n",
    "\n",
    "    def start_engine(self):\n",
    "        self._engine_status = \"on\"\n",
    "\n",
    "class SportsCar(Car):\n",
    "    def boost(self):\n",
    "        if self._engine_status == \"on\":\n",
    "            print(\"Boost mode activated!\")\n",
    "\n",
    "car = SportsCar()\n",
    "car.start_engine()\n",
    "car.boost()  # ✅ Works\n",
    "print(car._engine_status)  # ⚠️ Allowed but not recommended\n"
   ]
  },
  {
   "cell_type": "markdown",
   "id": "18251720",
   "metadata": {},
   "source": [
    "3. Private- It is something that the class keeps completely secret. No one outside the class can directly use or change it. Python hides them by slightly changing their name internally (called name mangling) so others can’t easily access them.Private modifier in Python can still be accessed using name mangling, which means writing them as _ClassName__variable.\n",
    "\n",
    "### Name Mangling\n",
    "Python doesn’t really delete or hide your variable, it just renames it in a tricky way inside the class so others can’t easily find it."
   ]
  },
  {
   "cell_type": "markdown",
   "id": "e8c02f0a",
   "metadata": {},
   "source": [
    "It secretly changes"
   ]
  },
  {
   "cell_type": "code",
   "execution_count": null,
   "id": "3d897339",
   "metadata": {},
   "outputs": [],
   "source": [
    "self.__balance\n"
   ]
  },
  {
   "cell_type": "markdown",
   "id": "901434da",
   "metadata": {},
   "source": [
    "Into this"
   ]
  },
  {
   "cell_type": "code",
   "execution_count": null,
   "id": "660d2b38",
   "metadata": {},
   "outputs": [],
   "source": [
    "self._Account__balance\n"
   ]
  },
  {
   "cell_type": "code",
   "execution_count": null,
   "id": "5d841d76",
   "metadata": {},
   "outputs": [],
   "source": [
    "class BankAccount:\n",
    "    def __init__(self, balance):\n",
    "        self.__balance = balance\n",
    "\n",
    "    def get_balance(self):\n",
    "        return self.__balance\n",
    "\n",
    "    def set_balance(self, amount):\n",
    "        if amount >= 0:\n",
    "            self.__balance = amount\n",
    "        else:\n",
    "            print(\"Balance cannot be negative!\")\n",
    "\n",
    "account = BankAccount(100)\n",
    "account.set_balance(200)\n",
    "print(account.get_balance())\n",
    "\n"
   ]
  },
  {
   "cell_type": "markdown",
   "id": "d165896a",
   "metadata": {},
   "source": [
    "## 1.2.2 Property decorator\n",
    "A property is a special feature in a class. It lets you read or change a value safely, and quietly checks that everything is okay before doing it.\n",
    "\n",
    "### UseCase\n",
    "Without @property, if we make our class attributes private (like __balance), we have to use getter and setter methods to read or update them:\n",
    "That works, but it’s not clean — every time we want to get or set, we have to call functions.\n",
    "Using the @property decorator, we can make those getters and setters look like simple variable access — but still keep control over the data."
   ]
  },
  {
   "cell_type": "code",
   "execution_count": null,
   "id": "df8f8fb2",
   "metadata": {},
   "outputs": [],
   "source": [
    "class BankAccount:\n",
    "    def __init__(self, balance):\n",
    "        self.__balance = balance\n",
    "\n",
    "    @property\n",
    "    def balance(self):\n",
    "        \"\"\"Getter — runs when we access account.balance\"\"\"\n",
    "        return self.__balance\n",
    "\n",
    "    @balance.setter\n",
    "    def balance(self, amount):\n",
    "        \"\"\"Setter — runs when we assign new value to account.balance\"\"\"\n",
    "        if amount >= 0:\n",
    "            self.__balance = amount\n",
    "        else:\n",
    "            print(\"Balance cannot be negative!\")\n",
    "\n",
    "account = BankAccount(100)\n",
    "account.balance = 200     # setter runs automatically\n",
    "print(account.balance)    # getter runs automatically\n"
   ]
  },
  {
   "cell_type": "markdown",
   "metadata": {},
   "source": [
    "## 1.3 Inheritance\n",
    "\n",
    "### What is inheritance? Explain different types of inheritance.\n",
    "\n",
    "**Answer:** Inheritance allows a child class to inherit attributes and methods from Parent class. Types:\n",
    "1. **Single Inheritance** - A child class inherits from only one parent class.\n",
    "2. **Multiple Inheritance** - A child class inherits from multiple parent class.\n",
    "3. **Multilevel Inheritance** - The child class inherits from a parent class, which itself is a child of another class.\n",
    "4. **Hierarchical Inheritance** - Multiple child classes are inheriting from same parent class.\n",
    "5. **Hybrid Inheritance** - Combination of any two or more inheritance type from above."
   ]
  },
  {
   "cell_type": "code",
   "execution_count": null,
   "metadata": {},
   "outputs": [],
   "source": [
    "# -------------------------------\n",
    "# 1️⃣ Single Inheritance\n",
    "# -------------------------------\n",
    "class Animal:\n",
    "    def __init__(self, name):\n",
    "        self.name = name\n",
    "    \n",
    "    def speak(self):\n",
    "        return \"Some sound\"\n",
    "\n",
    "class Dog(Animal):  # Single inheritance\n",
    "    def speak(self):\n",
    "        return f\"{self.name} says Woof!\"\n",
    "\n",
    "dog = Dog(\"Buddy\")\n",
    "print(\"Single Inheritance:\")\n",
    "print(dog.speak())\n",
    "print(\"-\" * 40)\n",
    "\n",
    "\n",
    "# -------------------------------\n",
    "# 2️⃣ Multiple Inheritance\n",
    "# -------------------------------\n",
    "class Flyer:\n",
    "    def fly(self):\n",
    "        return \"Flying in the sky\"\n",
    "\n",
    "class Swimmer:\n",
    "    def swim(self):\n",
    "        return \"Swimming in water\"\n",
    "\n",
    "class Duck(Animal, Flyer, Swimmer):  # Multiple inheritance\n",
    "    def speak(self):\n",
    "        return f\"{self.name} says Quack!\"\n",
    "\n",
    "duck = Duck(\"Donald\")\n",
    "print(\"Multiple Inheritance:\")\n",
    "print(duck.speak())\n",
    "print(duck.fly())\n",
    "print(duck.swim())\n",
    "print(\"-\" * 40)\n",
    "\n",
    "\n",
    "# -------------------------------\n",
    "# 3️⃣ Multilevel Inheritance\n",
    "# -------------------------------\n",
    "\n",
    "class Grandparent:\n",
    "    def feature_grandparent(self):\n",
    "        return \"This is the Grandparent class feature\"\n",
    "\n",
    "class Parent(Grandparent):\n",
    "    def feature_parent(self):\n",
    "        return \"This is the Parent class feature\"\n",
    "\n",
    "class Child(Parent):\n",
    "    def feature_child(self):\n",
    "        return \"This is the Child class feature\"\n",
    "\n",
    "# Object of the most derived class\n",
    "child = Child()\n",
    "\n",
    "print(\"Multilevel Inheritance:\")\n",
    "print(child.feature_child())\n",
    "print(child.feature_parent())\n",
    "print(child.feature_grandparent())\n",
    "print(\"-\" * 40)\n",
    "\n",
    "\n",
    "\n",
    "# -------------------------------\n",
    "# 4️⃣ Hierarchical Inheritance\n",
    "# -------------------------------\n",
    "class Vehicle:\n",
    "    def move(self):\n",
    "        return \"Moving on the road\"\n",
    "\n",
    "class Car(Vehicle):\n",
    "    def wheels(self):\n",
    "        return \"Car has 4 wheels\"\n",
    "\n",
    "class Bike(Vehicle):\n",
    "    def wheels(self):\n",
    "        return \"Bike has 2 wheels\"\n",
    "\n",
    "car = Car()\n",
    "bike = Bike()\n",
    "\n",
    "print(\"Hierarchical Inheritance:\")\n",
    "print(car.move())\n",
    "print(car.wheels())\n",
    "print(bike.move())\n",
    "print(bike.wheels())\n",
    "print(\"-\" * 40)\n",
    "\n",
    "\n",
    "# -------------------------------\n",
    "# 5️⃣ Hybrid Inheritance (Combination)\n",
    "# -------------------------------\n",
    "class LivingBeing:\n",
    "    def breathe(self):\n",
    "        return \"All living beings breathe\"\n",
    "\n",
    "class Mammal(LivingBeing):\n",
    "    def warm_blooded(self):\n",
    "        return \"Mammals are warm-blooded\"\n",
    "\n",
    "class Bird(LivingBeing):\n",
    "    def lay_eggs(self):\n",
    "        return \"Birds lay eggs\"\n",
    "\n",
    "class Bat(Mammal, Bird):  # Hybrid (Multiple + Multilevel)\n",
    "    def special(self):\n",
    "        return \"Bats can fly and are mammals\"\n",
    "\n",
    "bat = Bat()\n",
    "print(\"Hybrid Inheritance:\")\n",
    "print(bat.breathe())\n",
    "print(bat.warm_blooded())\n",
    "print(bat.lay_eggs())\n",
    "print(bat.special())\n",
    "print(\"-\" * 40)\n"
   ]
  },
  {
   "cell_type": "markdown",
   "metadata": {},
   "source": [
    "## 1.4 Polymorphism\n",
    "\n",
    "### What is polymorphism? Explain method overriding and method overloading.\n",
    "\n",
    "**Answer:** Polymorphism means \"many forms\". It allows objects of different classes to be treated through the same interface.\n",
    "### A. Method Overriding:\n",
    "When a child class defines a method with the same name and parameters as a method in its parent class, it overrides the parent’s method. The child class version is called instead of the parent’s version.\n",
    "### B. Method Overloading: \n",
    "Having multiple methods with the same name but different parameters in the same class.\n",
    "Python doesn't support traditional overloading, but can use default arguments or *args/**kwargs."
   ]
  },
  {
   "cell_type": "code",
   "execution_count": null,
   "metadata": {},
   "outputs": [
    {
     "name": "stdout",
     "output_type": "stream",
     "text": [
      "1.0006678104400635\n"
     ]
    }
   ],
   "source": [
    "# Method Overriding\n",
    "class Animal:\n",
    "    def speak(self):\n",
    "        return \"Some sound\"\n",
    "\n",
    "class Dog(Animal):\n",
    "    def speak(self):  # overriding the parent method\n",
    "        return \"Woof!\"\n",
    "\n",
    "dog = Dog()\n",
    "print(dog.speak())  # Output: Woof!\n",
    "\n",
    "# Method Overloading (Python way)\n",
    "\n",
    "# This will raise an error because the second definition overwrites the first one\n",
    "# TypeError: Calculator.add() missing 1 required positional argument: 'c'\n",
    "class Calculator:\n",
    "\n",
    "    def add(self, a, b):\n",
    "        return a + b\n",
    "    def add(self, a, b, c):\n",
    "        return a + b + c\n",
    "    # def add(self, a, b=0, c=0):\n",
    "    #     return a + b + c\n",
    "\n",
    "calc = Calculator()\n",
    "# print(calc.add(5))\n",
    "# print(calc.add(5, 10))  # TypeError: Calculator.add() missing 1 required positional argument: 'c'\n",
    "# print(calc.add(5, 10, 15))"
   ]
  },
  {
   "cell_type": "markdown",
   "metadata": {},
   "source": [
    "## 1.5 Abstraction\n",
    "\n",
    "### What is abstraction? How to implement abstract classes in Python?\n",
    "\n",
    "**Answer:** Abstraction hides the complex working details of a class and only shows the essential features that are needed to use it.\n",
    "It helps you focus on the behavior of an object rather than its implementation. In Python, abstraction is achieved using the abc (Abstract Base Class) module."
   ]
  },
  {
   "cell_type": "code",
   "execution_count": null,
   "metadata": {},
   "outputs": [],
   "source": [
    "from abc import ABC, abstractmethod\n",
    "\n",
    "class Vehicle(ABC):\n",
    "    @abstractmethod\n",
    "    def start(self):\n",
    "        pass\n",
    "    \n",
    "    @abstractmethod\n",
    "    def stop(self):\n",
    "        pass\n",
    "    \n",
    "    def description(self):\n",
    "        return \"This is a vehicle\"\n",
    "\n",
    "class Car(Vehicle):\n",
    "    def start(self):\n",
    "        return \"Car engine started\"\n",
    "    \n",
    "    def stop(self):\n",
    "        return \"Car engine stopped\"\n",
    "\n",
    "# vehicle = Vehicle()  # TypeError: Can't instantiate abstract class\n",
    "car = Car()\n",
    "print(car.start())\n",
    "print(car.stop())\n",
    "print(car.description())"
   ]
  },
  {
   "cell_type": "markdown",
   "id": "3093d103",
   "metadata": {},
   "source": [
    "## 1.6.1 Static Method\n",
    "Static method is a function that lives inside the class but doesn’t care about the class’s data.\n",
    "Works like a regular function but grouped logically inside a class.\n",
    "- No self\n",
    "- No cls"
   ]
  },
  {
   "cell_type": "code",
   "execution_count": null,
   "id": "4f5777b9",
   "metadata": {},
   "outputs": [],
   "source": [
    "class MathTools:\n",
    "    @staticmethod\n",
    "    def add(a, b):\n",
    "        return a + b\n",
    "\n",
    "# You can call it using the class name\n",
    "print(MathTools.add(5, 3))  # Output: 8\n"
   ]
  },
  {
   "cell_type": "markdown",
   "id": "eea7c4fb",
   "metadata": {},
   "source": [
    "## 1.6.2 Class Method\n",
    "A class method is a function that works with the class itself instead of an object. It takes cls (the class) as its first argument."
   ]
  },
  {
   "cell_type": "code",
   "execution_count": null,
   "id": "c1642354",
   "metadata": {},
   "outputs": [],
   "source": [
    "class Student:\n",
    "    school_name = \"Green Valley School\"  # class variable\n",
    "\n",
    "    def __init__(self, name):\n",
    "        self.name = name\n",
    "\n",
    "    @classmethod\n",
    "    def change_school(cls, new_name):\n",
    "        cls.school_name = new_name  # changes class variable\n",
    "\n",
    "Student.change_school(\"Sunrise Public School\")\n",
    "print(Student.school_name)  # Output: Sunrise Public School\n"
   ]
  },
  {
   "cell_type": "markdown",
   "id": "34bfece5",
   "metadata": {},
   "source": [
    "### Real World Example"
   ]
  },
  {
   "cell_type": "code",
   "execution_count": null,
   "id": "743b7773",
   "metadata": {},
   "outputs": [],
   "source": [
    "class Employee:\n",
    "    company_name = \"TechCorp\"\n",
    "\n",
    "    def __init__(self, name, salary):\n",
    "        self.name = name\n",
    "        self.salary = salary\n",
    "\n",
    "    @classmethod\n",
    "    def change_company(cls, new_name):\n",
    "        cls.company_name = new_name  # changes for all employees\n",
    "\n",
    "    @staticmethod\n",
    "    def is_valid_salary(salary):\n",
    "        return salary > 0  # just checks data, doesn’t depend on class\n",
    "\n",
    "# Using classmethod\n",
    "Employee.change_company(\"InnovateX\")\n",
    "\n",
    "# Using staticmethod\n",
    "print(Employee.is_valid_salary(50000))  # True\n"
   ]
  },
  {
   "cell_type": "markdown",
   "id": "91231c67",
   "metadata": {},
   "source": [
    "## 1.7 MRO(Method Resolution Order)\n",
    "MRO is the path Python follows to find which method or attribute to use when there are multiple inherited classes. MRO becomes important when we use inheritance, especially multiple inheritance (a class inherits from more than one parent).\n",
    "It helps Python avoid confusion and repetition — it decides which parent’s method to run first.\n",
    "\n",
    "### C3 Linearization\n",
    "C3 Linearization is the algorithm Python uses to calculate the MRO. It decides which class comes first when Python looks for methods in multiple inheritance situations. It make sure the MRO is consistent, left-to-right, and without duplicates."
   ]
  },
  {
   "cell_type": "code",
   "execution_count": 1,
   "id": "9c728b5c",
   "metadata": {},
   "outputs": [
    {
     "name": "stdout",
     "output_type": "stream",
     "text": [
      "Running process() from class B\n",
      "[<class '__main__.D'>, <class '__main__.B'>, <class '__main__.C'>, <class '__main__.A'>, <class 'object'>]\n"
     ]
    }
   ],
   "source": [
    "\n",
    "# Base class A\n",
    "class A:\n",
    "    def process(self):\n",
    "        print(\"Running process() from class A\")\n",
    "\n",
    "# Class B inherits from A\n",
    "class B(A):\n",
    "    def process(self):\n",
    "        print(\"Running process() from class B\")\n",
    "\n",
    "# Class C also inherits from A\n",
    "class C(A):\n",
    "    def process(self):\n",
    "        print(\"Running process() from class C\")\n",
    "\n",
    "# Class D inherits from both B and C\n",
    "class D(B, C):\n",
    "    pass   # D doesn't define process(), so Python will look in its parents\n",
    "\n",
    "# Create object of D\n",
    "obj = D()\n",
    "\n",
    "# When calling process(), Python must decide which one to run (B’s or C’s?)\n",
    "obj.process()\n",
    "\n",
    "# Let's see the MRO order Python uses\n",
    "print(D.mro())\n"
   ]
  },
  {
   "cell_type": "markdown",
   "id": "e2fd0993",
   "metadata": {},
   "source": [
    "## 1.8 Super\n",
    "Super() lets a child class use something from its parent, like calling the parent’s method — and Python decides which parent to use first by following the MRO order. It lets us reuse parent methods without repeating code. It helps multiple inheritance work correctly (by following MRO)."
   ]
  },
  {
   "cell_type": "code",
   "execution_count": null,
   "id": "5163719a",
   "metadata": {},
   "outputs": [],
   "source": [
    "class A:\n",
    "    def show(self):\n",
    "        print(\"A\")\n",
    "\n",
    "class B(A):\n",
    "    def show(self):\n",
    "        print(\"B\")\n",
    "        super().show()   # Calls the next in MRO, not directly A\n",
    "\n",
    "class C(A):\n",
    "    def show(self):\n",
    "        print(\"C\")\n",
    "        super().show()\n",
    "\n",
    "class D(B, C):  # Multiple inheritance\n",
    "    def show(self):\n",
    "        print(\"D\")\n",
    "        super().show()   # Uses MRO to decide what comes next\n",
    "\n",
    "obj = D()\n",
    "obj.show()\n",
    "\n",
    "# Print the MRO to see the order Python follows\n",
    "print(D.mro())\n"
   ]
  },
  {
   "cell_type": "markdown",
   "id": "733b6922",
   "metadata": {},
   "source": [
    "## 1.9 Dunder Methods\n",
    "Dunder methods are special methods in Python whose names start and end with double underscores — like __init__, __str__, __len__, __add__, etc. “Dunder” means “double underscore”. \n",
    "They make your objects behave like built-in Python types — for example:\n",
    "- Adding two numbers (+)\n",
    "- Printing something nicely (print())\n",
    "- Getting the length (len())\n",
    "They start with __ and end with __, so Python knows they are special."
   ]
  },
  {
   "cell_type": "code",
   "execution_count": null,
   "id": "9282b1e9",
   "metadata": {},
   "outputs": [],
   "source": [
    "# This method runs automatically when you create an object.\n",
    "class Dog:\n",
    "    def __init__(self, name):\n",
    "        self.name = name\n",
    "\n",
    "dog1 = Dog(\"Rocky\")  # __init__ runs automatically here\n",
    "print(dog1.name)\n",
    "\n",
    "# This makes your object look nice when you print it.\n",
    "\n",
    "class Dog:\n",
    "    def __init__(self, name):\n",
    "        self.name = name\n",
    "\n",
    "    def __str__(self):\n",
    "        return f\"This is {self.name}!\"\n",
    "\n",
    "dog1 = Dog(\"Rocky\")\n",
    "print(dog1)\n"
   ]
  },
  {
   "cell_type": "markdown",
   "id": "8c2d0e19",
   "metadata": {},
   "source": [
    "## 1.10 Metaclass\n",
    "A metaclass is the class that creates classes. just like a class creates objects.\n",
    "A class is like a blueprint to create houses (objects).\n",
    "and a metaclass is like the factory that makes those blueprints.\n",
    "By default, every class is made by the metaclass type."
   ]
  },
  {
   "cell_type": "code",
   "execution_count": null,
   "id": "034002da",
   "metadata": {},
   "outputs": [],
   "source": [
    "# Everything in Python is an object, even classes\n",
    "print(type(10))        # int\n",
    "print(type(\"Hello\"))   # str\n",
    "print(type([1, 2]))    # list\n",
    "\n",
    "# But what about a class?\n",
    "class Dog:\n",
    "    pass\n",
    "\n",
    "print(type(Dog))       # <class 'type'>\n"
   ]
  },
  {
   "cell_type": "markdown",
   "id": "7795e120",
   "metadata": {},
   "source": [
    "### Use case of Metaclass\n",
    "We use metaclasses when we want to control how classes behave — for example, automatically adding or checking things when a class is created. Imagine you want every class in your project to have a method called info().\n",
    "You can make a metaclass that automatically adds it to every new class."
   ]
  },
  {
   "cell_type": "markdown",
   "id": "c627f5f6",
   "metadata": {},
   "source": [
    "### Custom Metaclass\n",
    "You can make your own metaclass by inheriting from type and overriding the __new__ or __init__ methods."
   ]
  },
  {
   "cell_type": "code",
   "execution_count": null,
   "id": "ba55f9f2",
   "metadata": {},
   "outputs": [],
   "source": [
    "# Custom metaclass\n",
    "class MyMeta(type):\n",
    "    def __new__(cls, name, bases, attrs):\n",
    "        print(f\"Creating class: {name}\")\n",
    "        # Automatically add a new method to every class made by this metaclass\n",
    "        attrs['greet'] = lambda self: print(f\"Hello from {name}!\")\n",
    "        return super().__new__(cls, name, bases, attrs)\n",
    "\n",
    "# Class using our metaclass\n",
    "class MyClass(metaclass=MyMeta):\n",
    "    pass\n",
    "\n",
    "# Object of the class\n",
    "obj = MyClass()\n",
    "obj.greet()\n"
   ]
  },
  {
   "cell_type": "markdown",
   "id": "0f76d368",
   "metadata": {},
   "source": [
    "### __new__ and __init__ in metaclass\n",
    "__new__ → runs before the class is created (used to modify the class)\n",
    "\n",
    "__init__ → runs after the class is created (used to adjust things)"
   ]
  },
  {
   "cell_type": "code",
   "execution_count": null,
   "id": "2f6451cf",
   "metadata": {},
   "outputs": [],
   "source": [
    "# A registry to store all model classes\n",
    "registry = {}\n",
    "\n",
    "class ModelMeta(type):\n",
    "    def __new__(cls, name, bases, attrs):\n",
    "        new_class = super().__new__(cls, name, bases, attrs)\n",
    "        registry[name] = new_class\n",
    "        return new_class\n",
    "\n",
    "class User(metaclass=ModelMeta):\n",
    "    pass\n",
    "\n",
    "class Product(metaclass=ModelMeta):\n",
    "    pass\n",
    "\n",
    "print(registry)\n"
   ]
  },
  {
   "cell_type": "markdown",
   "id": "0c9f4b7a",
   "metadata": {},
   "source": [
    "## 1.11 Context Manager\n",
    "A Context Manager is a tool in Python that helps you set things up, use them safely, and then clean them up automatically — even if something goes wrong. It opens resources, lets you use them, and closes them automatically afterward."
   ]
  },
  {
   "cell_type": "code",
   "execution_count": null,
   "id": "4302e23c",
   "metadata": {},
   "outputs": [],
   "source": [
    "# Without context manager\n",
    "file = open(\"data.txt\", \"r\")\n",
    "content = file.read()\n",
    "file.close()  # ❗ If you forget this, file stays open!\n",
    "\n",
    "# With context manager\n",
    "with open(\"data.txt\", \"r\") as file:\n",
    "    content = file.read()   # ✅ File is automatically closed afterward\n"
   ]
  },
  {
   "cell_type": "markdown",
   "id": "67619228",
   "metadata": {},
   "source": [
    "### Types of Context Manager\n",
    "\n",
    "1. Class based Context Manager- It is made using a class with special (dunder) methods. A class-based context manager has two dunder methods —\n",
    "one for starting work (__enter__) and one for finishing work (__exit__).\n",
    "Python implements those methods automatically when you use a with block."
   ]
  },
  {
   "cell_type": "code",
   "execution_count": null,
   "id": "a5874bf2",
   "metadata": {},
   "outputs": [],
   "source": [
    "class MyContext:\n",
    "    def __enter__(self):\n",
    "        print(\"Starting work...\")\n",
    "        return \"Hello from __enter__!\"\n",
    "\n",
    "    def __exit__(self, exc_type, exc_value, traceback):\n",
    "        print(\"Cleaning up after work...\")\n",
    "\n",
    "# Using the context manager\n",
    "with MyContext() as msg:\n",
    "    print(msg)\n"
   ]
  },
  {
   "cell_type": "markdown",
   "id": "ba534d70",
   "metadata": {},
   "source": [
    "2. Function-based Context Manager-\n",
    "A function-based context manager is like writing a short story 📖\n",
    "with a beginning (setup), a middle (work), and an ending (cleanup).\n",
    "You use the @contextmanager decorator and the word yield to split the story."
   ]
  },
  {
   "cell_type": "code",
   "execution_count": null,
   "id": "cc4154e4",
   "metadata": {},
   "outputs": [],
   "source": [
    "from contextlib import contextmanager\n",
    "\n",
    "@contextmanager\n",
    "def my_context():\n",
    "    print(\"Starting work...\")   # before yield → setup\n",
    "    yield \"Hello from yield!\"   # give control to 'with' block\n",
    "    print(\"Cleaning up...\")     # after yield → cleanup\n",
    "\n",
    "# Using it\n",
    "with my_context() as msg:\n",
    "    print(msg)\n"
   ]
  },
  {
   "cell_type": "markdown",
   "id": "f41e407d",
   "metadata": {},
   "source": [
    "### Real life use cases of Context Manager\n",
    "- file handling =\tOpening and closing files automatically\n",
    "- Database connections =\tOpening DB connection and closing it safely\n",
    "- Network connections =\tManaging sockets\n",
    "- Lock handling (Concurrency) =\tAutomatically acquiring and releasing locks\n",
    "- Temporary changes =\tChanging a directory, environment variable, etc."
   ]
  },
  {
   "cell_type": "markdown",
   "id": "bb0635ae",
   "metadata": {},
   "source": [
    "### Best practices for using Context Manager\n",
    "- ✅ Always use with when opening files or network connections=\tPrevents resource leaks\n",
    "- ✅ Use contextlib.contextmanager for simple cases=\tMakes code cleaner\n",
    "- ✅ Keep setup and cleanup logic short=\tEasier to debug\n",
    "- ⚠️ Don’t ignore errors silently=\tHandle exceptions inside __exit__() properly\n",
    "- ✅ Reuse context managers for similar resources=\tPromotes clean code and DRY principle"
   ]
  },
  {
   "cell_type": "markdown",
   "id": "d7df031f",
   "metadata": {},
   "source": [
    "## 1.12 Decorator\n",
    "A decorator is just a special way to use one function (the wrapper) to modify or enhance another function or class.\n",
    "The syntax for using a decorator is the @ symbol followed by the decorator's name, placed right before the def (for a function) or class (for a class).\n",
    "\n",
    "### Function decorator\n",
    "Most decorators are functions that take another function as input, and return a new (modified) function."
   ]
  },
  {
   "cell_type": "code",
   "execution_count": null,
   "id": "c0bdee4c",
   "metadata": {},
   "outputs": [],
   "source": [
    "def loud_start_end(func):\n",
    "    \"\"\"\n",
    "    The Decorator: This function takes the original function (func)\n",
    "    and returns a new function (wrapper).\n",
    "    \"\"\"\n",
    "    def wrapper():\n",
    "        \"\"\"\n",
    "        The Wrapper: This is the new function that runs instead of the original.\n",
    "        \"\"\"\n",
    "        # Step 1: Do something BEFORE the original function runs\n",
    "        print(\"--- The magic wrapper starts running! ---\")\n",
    "        \n",
    "        # Step 2: Call the original function\n",
    "        func()\n",
    "        \n",
    "        # Step 3: Do something AFTER the original function runs\n",
    "        print(\"--- The magic wrapper finished running! ---\")\n",
    "    \n",
    "    # The decorator returns the new function (wrapper)\n",
    "    return wrapper\n",
    "\n",
    "# -----------------------------------------------------------\n",
    "\n",
    "# Use the @ symbol to decorate the 'say_hello' function.\n",
    "@loud_start_end\n",
    "def say_hello():\n",
    "    \"\"\"The original, simple function.\"\"\"\n",
    "    print(\"HELLO! I am the core function.\")\n",
    "\n",
    "# --- Execution ---\n",
    "\n",
    "# When you call 'say_hello()', you are actually calling the 'wrapper()' function\n",
    "# returned by the decorator.\n",
    "print(\"Calling the decorated function:\")\n",
    "say_hello()\n",
    "\n",
    "# What if we didn't use the '@' symbol?\n",
    "# It would look like this:\n",
    "# new_function = loud_start_end(say_hello)\n",
    "# new_function()"
   ]
  },
  {
   "cell_type": "markdown",
   "id": "3e689034",
   "metadata": {},
   "source": [
    "### Class decorator\n",
    "A class can also be used as a decorator! This is often simpler when you need to store state (remember things) or if you want a cleaner structure."
   ]
  },
  {
   "cell_type": "code",
   "execution_count": null,
   "id": "f6be08a8",
   "metadata": {},
   "outputs": [],
   "source": [
    "import functools\n",
    "\n",
    "class CallCounter:\n",
    "    \"\"\"\n",
    "    1. The Decorator Class: Tracks how many times a function has been called.\n",
    "    \"\"\"\n",
    "    def __init__(self, func):\n",
    "        # 2. Initialization (Definition Time)\n",
    "        # This runs ONLY ONCE when the code loads and Python sees the @CallCounter line.\n",
    "        \n",
    "        # Store the original function\n",
    "        functools.update_wrapper(self, func)\n",
    "        self.func = func \n",
    "        \n",
    "        # Store the state (the count)\n",
    "        self.call_count = 0\n",
    "        print(f\"[Decorator Setup] Initializing counter for '{self.func.__name__}'\")\n",
    "\n",
    "    def __call__(self, *args, **kwargs):\n",
    "        \"\"\"\n",
    "        3. The Execution Method (Call Time)\n",
    "        This runs every single time the decorated function is executed.\n",
    "        The '__call__' method makes the instance of CallCounter act like a function itself.\n",
    "        \"\"\"\n",
    "        \n",
    "        # Step A: Update the state (the \"extra power\")\n",
    "        self.call_count += 1\n",
    "        \n",
    "        # Step B: Run the original function logic\n",
    "        result = self.func(*args, **kwargs)\n",
    "        \n",
    "        # Step C: Report the state\n",
    "        print(f\"[{self.func.__name__}] Has now been called {self.call_count} time(s).\")\n",
    "        \n",
    "        return result\n",
    "\n",
    "# 4. Apply the Class Decorator\n",
    "@CallCounter\n",
    "def calculate_sum(a, b):\n",
    "    \"\"\"Adds two numbers together.\"\"\"\n",
    "    return a + b\n",
    "\n",
    "# --- Execution ---\n",
    "\n",
    "print(\"-\" * 25)\n",
    "print(f\"Result 1: {calculate_sum(5, 3)}\") # First call\n",
    "print(\"-\" * 25)\n",
    "print(f\"Result 2: {calculate_sum(10, 20)}\") # Second call\n",
    "print(\"-\" * 25)\n",
    "print(f\"Result 3: {calculate_sum(1, 1)}\") # Third call\n",
    "print(\"-\" * 25)\n",
    "\n",
    "# We can even access the state stored in the decorator instance!\n",
    "print(f\"The final count stored in the decorator is: {calculate_sum.call_count}\")\n"
   ]
  },
  {
   "cell_type": "markdown",
   "id": "247c3877",
   "metadata": {},
   "source": [
    "### 3. Execution Order (The Magic Reveal)\n",
    "This is the trickiest part, but it's crucial! There are two main steps when code with a decorator runs:\n",
    "\n",
    "- At \"Definition Time\" (When the code loads)\n",
    "When Python sees the @decorator line, it immediately calls the decorator function, passing the decorated function/class to it.\n",
    "The decorator runs and returns the new, wrapped function/class.\n",
    "Python replaces the original function/class with the new one.\n",
    "Example: You have a function called jump. When Python sees @log_time above it, it instantly changes what jump points to. Now, jump points to the function that logs the time and then runs the original jump code.\n",
    "\n",
    "- At \"Call Time\" (When the code is executed)\n",
    "When your program later calls the decorated function (e.g., jump()), it's not running your original function.\n",
    "It's running the wrapper function that the decorator returned.\n",
    "The wrapper does its extra stuff (like logging) and then calls your original function inside of it.\n",
    "\n"
   ]
  },
  {
   "cell_type": "code",
   "execution_count": null,
   "id": "92ac67ad",
   "metadata": {},
   "outputs": [],
   "source": [
    "import functools\n",
    "\n",
    "# --- Decorator 1 (Runs LAST during definition, Runs FIRST during execution) ---\n",
    "def decorator_B(func):\n",
    "    # RUNS 2nd (Definition Time)\n",
    "    print(\"  -> DEFINITION: Decorator B is wrapping the result of A.\")\n",
    "\n",
    "    @functools.wraps(func)\n",
    "    def wrapper_B(*args, **kwargs):\n",
    "        # RUNS 3rd (Call Time)\n",
    "        print(\"    --> EXECUTION: Wrapper B runs BEFORE A's wrapper.\")\n",
    "        result = func(*args, **kwargs)\n",
    "        print(\"    <-- EXECUTION: Wrapper B runs AFTER A's wrapper.\")\n",
    "        return result\n",
    "    return wrapper_B\n",
    "\n",
    "# --- Decorator 2 (Runs FIRST during definition, Runs LAST during execution) ---\n",
    "def decorator_A(func):\n",
    "    # RUNS 1st (Definition Time)\n",
    "    print(\"  -> DEFINITION: Decorator A is wrapping the original function.\")\n",
    "\n",
    "    @functools.wraps(func)\n",
    "    def wrapper_A(*args, **kwargs):\n",
    "        # RUNS 4th (Call Time)\n",
    "        print(\"      ---> EXECUTION: Wrapper A runs BEFORE the original function.\")\n",
    "        result = func(*args, **kwargs)\n",
    "        print(\"      <--- EXECUTION: Wrapper A runs AFTER the original function.\")\n",
    "        return result\n",
    "    return wrapper_A\n",
    "\n",
    "# --- The Original Function ---\n",
    "\n",
    "@decorator_B  # Applied SECOND\n",
    "@decorator_A  # Applied FIRST\n",
    "def target_function(message):\n",
    "    print(f\"        *** ORIGINAL FUNCTION RUNNING: {message} ***\")\n",
    "    return \"SUCCESS\"\n",
    "\n",
    "# --- Execution ---\n",
    "\n",
    "# PHASE 1: DEFINITION (Happens immediately when the code is loaded)\n",
    "print(\"PHASE 1: Code Loading and Definition (Bottom-Up):\")\n",
    "# Notice that decorator_A prints its message, then decorator_B prints its message.\n",
    "# decorator_A is passed the original function.\n",
    "# decorator_B is passed the *wrapped function from A*.\n",
    "\n",
    "print(\"\\n\" + \"=\"*30 + \"\\n\")\n",
    "\n",
    "# PHASE 2: CALL TIME (When the function is executed)\n",
    "print(\"PHASE 2: Function Call and Execution (Top-Down):\")\n",
    "final_result = target_function(\"Running the decorated code\")\n",
    "\n",
    "print(\"\\n\" + \"=\"*30)\n",
    "print(f\"Final Return Value: {final_result}\")\n"
   ]
  },
  {
   "cell_type": "markdown",
   "id": "9da125e9",
   "metadata": {},
   "source": [
    "### Types of Function Decorators\n",
    "\n",
    "1. Decorator Without Arguments (The Simple Factory)\n",
    "This is the standard, two-layer decorator you saw in the first example.\n",
    "\n",
    "### The Structure:\n",
    "\n",
    "- It's a function that takes the function to be decorated.\n",
    "\n",
    "- It immediately defines and returns the wrapper function.\n",
    "\n",
    "2. Decorator With Arguments (The Configurable Factory)\n",
    "This is the three-layer structure you need when you want to customize the decorator's behavior (like repeating a function a specific number of times, or logging a specific message).\n",
    "\n",
    "### The Structure:\n",
    "\n",
    "- It's the outermost function that takes the configuration arguments (like times=3).\n",
    "\n",
    "- This function returns the actual decorator function (the two-layer structure from before)."
   ]
  },
  {
   "cell_type": "code",
   "execution_count": null,
   "id": "99a844b0",
   "metadata": {},
   "outputs": [],
   "source": [
    "import functools\n",
    "\n",
    "# ====================================================================\n",
    "# TYPE 1: DECORATOR WITHOUT ARGUMENTS (2 LAYERS)\n",
    "# ====================================================================\n",
    "\n",
    "def log_call(func):\n",
    "    \"\"\"\n",
    "    LAYER 1: The decorator function. Takes the function to decorate.\n",
    "    This runs at DEFINITION time.\n",
    "    \"\"\"\n",
    "    @functools.wraps(func)\n",
    "    def wrapper_log(*args, **kwargs):\n",
    "        \"\"\"\n",
    "        LAYER 2: The wrapper function. This runs at CALL time.\n",
    "        \"\"\"\n",
    "        print(f\"\\n[LOGGING] Function '{func.__name__}' is starting...\")\n",
    "        result = func(*args, **kwargs)\n",
    "        print(f\"[LOGGING] Function '{func.__name__}' finished.\")\n",
    "        return result\n",
    "    \n",
    "    return wrapper_log\n",
    "\n",
    "# --------------------------------------------------------------------\n",
    "# TYPE 2: DECORATOR WITH ARGUMENTS (3 LAYERS)\n",
    "# --------------------------------------------------------------------\n",
    "\n",
    "def stylize(border_char='*'):\n",
    "    \"\"\"\n",
    "    LAYER 1 (Outermost): Takes the arguments for the decorator (e.g., border_char).\n",
    "    This runs first at DEFINITION time.\n",
    "    \"\"\"\n",
    "    \n",
    "    def decorator_stylize(func):\n",
    "        \"\"\"\n",
    "        LAYER 2 (Middle): The actual decorator. Takes the function to decorate.\n",
    "        This runs second at DEFINITION time.\n",
    "        \"\"\"\n",
    "        @functools.wraps(func)\n",
    "        def wrapper_stylize(*args, **kwargs):\n",
    "            \"\"\"\n",
    "            LAYER 3 (Innermost): The final wrapper. This runs at CALL time.\n",
    "            \"\"\"\n",
    "            border = border_char * 25\n",
    "            print(f\"\\n{border}\")\n",
    "            result = func(*args, **kwargs)\n",
    "            print(f\"{border}\")\n",
    "            return result\n",
    "        \n",
    "        return wrapper_stylize\n",
    "\n",
    "    # Layer 1 returns Layer 2 (the actual decorator)\n",
    "    return decorator_stylize\n",
    "\n",
    "# ====================================================================\n",
    "# APPLYING THE DECORATORS\n",
    "# ====================================================================\n",
    "\n",
    "# Applying the decorator WITHOUT arguments\n",
    "@log_call\n",
    "def simple_message(name):\n",
    "    print(f\"  Hello, {name}! This is the core function's output.\")\n",
    "\n",
    "# Applying the decorator WITH arguments (must call it like a function!)\n",
    "@stylize(border_char='#')\n",
    "def special_message():\n",
    "    print(\"  This message has a custom border character!\")\n",
    "    return \"Complete\"\n",
    "\n",
    "# --- Execution ---\n",
    "\n",
    "print(\"--- Calling SIMPLE_MESSAGE (No Args Decorator) ---\")\n",
    "simple_message(\"Alex\")\n",
    "\n",
    "print(\"\\n--- Calling SPECIAL_MESSAGE (With Args Decorator) ---\")\n",
    "result = special_message()\n",
    "print(f\"Return value: {result}\")\n"
   ]
  },
  {
   "cell_type": "markdown",
   "metadata": {},
   "source": [
    "---\n",
    "# 2. Data Structures\n",
    "\n",
    "## 2.1 Lists\n",
    "\n",
    "### What are lists? How do they differ from tuples?\n",
    "\n",
    "**Answer:** Lists are mutable, ordered collections that can contain elements of different types. They support indexing, slicing, and various methods. Tuples are immutable versions of lists."
   ]
  },
  {
   "cell_type": "code",
   "execution_count": null,
   "metadata": {},
   "outputs": [],
   "source": [
    "# List operations\n",
    "my_list = [1, 2, 3, 4, 5]\n",
    "\n",
    "# Append and extend\n",
    "my_list.append(6)\n",
    "my_list.extend([7, 8])\n",
    "print(\"After append/extend:\", my_list)\n",
    "\n",
    "# Insert and remove\n",
    "my_list.insert(0, 0)\n",
    "my_list.remove(4)\n",
    "print(\"After insert/remove:\", my_list)\n",
    "\n",
    "# Slicing\n",
    "print(\"Slice [2:5]:\", my_list[2:5])\n",
    "print(\"Reverse:\", my_list[::-1])\n",
    "\n",
    "# List comprehension\n",
    "squares = [x**2 for x in range(1, 6)]\n",
    "print(\"Squares:\", squares)\n",
    "\n",
    "# Filter with condition\n",
    "evens = [x for x in range(1, 11) if x % 2 == 0]\n",
    "print(\"Evens:\", evens)"
   ]
  },
  {
   "cell_type": "markdown",
   "metadata": {},
   "source": [
    "## 2.2 Dictionaries\n",
    "\n",
    "### What are dictionaries? What are common operations?\n",
    "\n",
    "**Answer:** Dictionaries are unordered collections of key-value pairs. Keys must be immutable and unique."
   ]
  },
  {
   "cell_type": "code",
   "execution_count": null,
   "metadata": {},
   "outputs": [],
   "source": [
    "# Dictionary operations\n",
    "student = {\n",
    "    \"name\": \"John\",\n",
    "    \"age\": 20,\n",
    "    \"grades\": [85, 90, 92]\n",
    "}\n",
    "\n",
    "# Access and modify\n",
    "print(\"Name:\", student[\"name\"])\n",
    "print(\"Age:\", student.get(\"age\", \"Not found\"))\n",
    "student[\"major\"] = \"Computer Science\"\n",
    "\n",
    "# Keys, values, items\n",
    "print(\"Keys:\", student.keys())\n",
    "print(\"Values:\", student.values())\n",
    "print(\"Items:\", student.items())\n",
    "\n",
    "# Dictionary comprehension\n",
    "squared = {x: x**2 for x in range(1, 6)}\n",
    "print(\"Squared dict:\", squared)\n",
    "\n",
    "# Merge dictionaries (Python 3.9+)\n",
    "dict1 = {\"a\": 1, \"b\": 2}\n",
    "dict2 = {\"c\": 3, \"d\": 4}\n",
    "merged = dict1 | dict2\n",
    "print(\"Merged:\", merged)"
   ]
  },
  {
   "cell_type": "markdown",
   "metadata": {},
   "source": [
    "## 2.3 Sets\n",
    "\n",
    "### What are sets? What are their use cases?\n",
    "\n",
    "**Answer:** Sets are unordered collections of unique elements. Useful for removing duplicates and set operations (union, intersection, difference)."
   ]
  },
  {
   "cell_type": "code",
   "execution_count": null,
   "metadata": {},
   "outputs": [],
   "source": [
    "# Set operations\n",
    "set1 = {1, 2, 3, 4, 5}\n",
    "set2 = {4, 5, 6, 7, 8}\n",
    "\n",
    "# Basic operations\n",
    "print(\"Union:\", set1 | set2)\n",
    "print(\"Intersection:\", set1 & set2)\n",
    "print(\"Difference:\", set1 - set2)\n",
    "print(\"Symmetric Difference:\", set1 ^ set2)\n",
    "\n",
    "# Remove duplicates\n",
    "numbers = [1, 2, 2, 3, 3, 3, 4, 4, 5]\n",
    "unique = list(set(numbers))\n",
    "print(\"Unique:\", unique)\n",
    "\n",
    "# Set comprehension\n",
    "even_squares = {x**2 for x in range(1, 11) if x % 2 == 0}\n",
    "print(\"Even squares:\", even_squares)"
   ]
  },
  {
   "cell_type": "markdown",
   "metadata": {},
   "source": [
    "---\n",
    "# 3. Functions and Decorators\n",
    "\n",
    "## 3.1 Function Arguments\n",
    "\n",
    "### What are *args and **kwargs?\n",
    "\n",
    "**Answer:** \n",
    "- `*args` - Allows function to accept variable number of positional arguments\n",
    "- `**kwargs` - Allows function to accept variable number of keyword arguments"
   ]
  },
  {
   "cell_type": "code",
   "execution_count": null,
   "metadata": {},
   "outputs": [],
   "source": [
    "# *args example\n",
    "def sum_all(*args):\n",
    "    return sum(args)\n",
    "\n",
    "print(sum_all(1, 2, 3))  # 6\n",
    "print(sum_all(1, 2, 3, 4, 5))  # 15\n",
    "\n",
    "# **kwargs example\n",
    "def print_info(**kwargs):\n",
    "    for key, value in kwargs.items():\n",
    "        print(f\"{key}: {value}\")\n",
    "\n",
    "print_info(name=\"John\", age=25, city=\"New York\")\n",
    "\n",
    "# Combining both\n",
    "def flexible_function(*args, **kwargs):\n",
    "    print(\"Positional:\", args)\n",
    "    print(\"Keyword:\", kwargs)\n",
    "\n",
    "flexible_function(1, 2, 3, name=\"Alice\", age=30)"
   ]
  },
  {
   "cell_type": "markdown",
   "metadata": {},
   "source": [
    "## 3.2 Lambda Functions\n",
    "\n",
    "### What are lambda functions? When to use them?\n",
    "\n",
    "**Answer:** Lambda functions are anonymous, single-expression functions. Use them for short, simple operations, especially with map(), filter(), and sorted()."
   ]
  },
  {
   "cell_type": "code",
   "execution_count": null,
   "metadata": {},
   "outputs": [],
   "source": [
    "# Basic lambda\n",
    "square = lambda x: x**2\n",
    "print(square(5))\n",
    "\n",
    "# With map()\n",
    "numbers = [1, 2, 3, 4, 5]\n",
    "squared = list(map(lambda x: x**2, numbers))\n",
    "print(\"Squared:\", squared)\n",
    "\n",
    "# With filter()\n",
    "evens = list(filter(lambda x: x % 2 == 0, numbers))\n",
    "print(\"Evens:\", evens)\n",
    "\n",
    "# With sorted()\n",
    "students = [(\"Alice\", 85), (\"Bob\", 92), (\"Charlie\", 78)]\n",
    "sorted_by_grade = sorted(students, key=lambda x: x[1], reverse=True)\n",
    "print(\"Sorted by grade:\", sorted_by_grade)"
   ]
  },
  {
   "cell_type": "markdown",
   "metadata": {},
   "source": [
    "## 3.3 Decorators\n",
    "\n",
    "### What are decorators? How do they work?\n",
    "\n",
    "**Answer:** Decorators are functions that modify the behavior of other functions. They wrap another function and extend its behavior without permanently modifying it."
   ]
  },
  {
   "cell_type": "code",
   "execution_count": null,
   "metadata": {},
   "outputs": [],
   "source": [
    "import time\n",
    "\n",
    "# Simple decorator\n",
    "def timer_decorator(func):\n",
    "    def wrapper(*args, **kwargs):\n",
    "        start = time.time()\n",
    "        result = func(*args, **kwargs)\n",
    "        end = time.time()\n",
    "        print(f\"{func.__name__} took {end - start:.4f} seconds\")\n",
    "        return result\n",
    "    return wrapper\n",
    "\n",
    "@timer_decorator\n",
    "def slow_function():\n",
    "    time.sleep(1)\n",
    "    return \"Done\"\n",
    "\n",
    "print(slow_function())\n",
    "\n",
    "# Decorator with arguments\n",
    "def repeat(times):\n",
    "    def decorator(func):\n",
    "        def wrapper(*args, **kwargs):\n",
    "            for _ in range(times):\n",
    "                result = func(*args, **kwargs)\n",
    "            return result\n",
    "        return wrapper\n",
    "    return decorator\n",
    "\n",
    "@repeat(3)\n",
    "def greet(name):\n",
    "    print(f\"Hello, {name}!\")\n",
    "\n",
    "greet(\"Alice\")"
   ]
  },
  {
   "cell_type": "markdown",
   "metadata": {},
   "source": [
    "---\n",
    "# 4. Generators and Iterators\n",
    "\n",
    "## 4.1 Generators\n",
    "\n",
    "### What are generators? How do they differ from regular functions?\n",
    "\n",
    "**Answer:** Generators are functions that use `yield` instead of `return`. They generate values on-the-fly and maintain state between calls, making them memory-efficient for large datasets."
   ]
  },
  {
   "cell_type": "code",
   "execution_count": null,
   "metadata": {},
   "outputs": [],
   "source": [
    "# Simple generator\n",
    "def countdown(n):\n",
    "    while n > 0:\n",
    "        yield n\n",
    "        n -= 1\n",
    "\n",
    "for num in countdown(5):\n",
    "    print(num)\n",
    "\n",
    "# Fibonacci generator\n",
    "def fibonacci(n):\n",
    "    a, b = 0, 1\n",
    "    for _ in range(n):\n",
    "        yield a\n",
    "        a, b = b, a + b\n",
    "\n",
    "print(\"Fibonacci:\", list(fibonacci(10)))\n",
    "\n",
    "# Generator expression\n",
    "squares_gen = (x**2 for x in range(1, 6))\n",
    "print(\"Squares:\", list(squares_gen))\n",
    "\n",
    "# Memory efficiency comparison\n",
    "import sys\n",
    "list_comp = [x**2 for x in range(1000)]\n",
    "gen_exp = (x**2 for x in range(1000))\n",
    "print(f\"List size: {sys.getsizeof(list_comp)} bytes\")\n",
    "print(f\"Generator size: {sys.getsizeof(gen_exp)} bytes\")"
   ]
  },
  {
   "cell_type": "markdown",
   "metadata": {},
   "source": [
    "## 4.2 Iterators\n",
    "\n",
    "### What are iterators? How to create custom iterators?\n",
    "\n",
    "**Answer:** Iterators are objects that implement `__iter__()` and `__next__()` methods. They allow iteration over a sequence of values."
   ]
  },
  {
   "cell_type": "code",
   "execution_count": null,
   "metadata": {},
   "outputs": [],
   "source": [
    "# Custom iterator\n",
    "class Counter:\n",
    "    def __init__(self, start, end):\n",
    "        self.current = start\n",
    "        self.end = end\n",
    "    \n",
    "    def __iter__(self):\n",
    "        return self\n",
    "    \n",
    "    def __next__(self):\n",
    "        if self.current > self.end:\n",
    "            raise StopIteration\n",
    "        self.current += 1\n",
    "        return self.current - 1\n",
    "\n",
    "counter = Counter(1, 5)\n",
    "for num in counter:\n",
    "    print(num)\n",
    "\n",
    "# Using iter() and next()\n",
    "my_list = [1, 2, 3]\n",
    "iterator = iter(my_list)\n",
    "print(next(iterator))  # 1\n",
    "print(next(iterator))  # 2"
   ]
  },
  {
   "cell_type": "markdown",
   "metadata": {},
   "source": [
    "---\n",
    "# 5. Exception Handling\n",
    "\n",
    "## 5.1 Try-Except Blocks\n",
    "\n",
    "### How does exception handling work in Python?\n",
    "\n",
    "**Answer:** Python uses try-except blocks to catch and handle exceptions. The try block contains code that might raise an exception, and except blocks handle specific exceptions."
   ]
  },
  {
   "cell_type": "code",
   "execution_count": 1,
   "metadata": {},
   "outputs": [
    {
     "name": "stdout",
     "output_type": "stream",
     "text": [
      "Cannot divide by zero!\n",
      "Error: invalid literal for int() with base 10: 'abc'\n",
      "Division successful\n",
      "Cleanup code executed\n",
      "5.0\n",
      "Cannot divide by zero\n",
      "Cleanup code executed\n",
      "None\n"
     ]
    }
   ],
   "source": [
    "# Basic exception handling\n",
    "try:\n",
    "    result = 10 / 0\n",
    "except ZeroDivisionError:\n",
    "    print(\"Cannot divide by zero!\")\n",
    "\n",
    "# Multiple exceptions\n",
    "try:\n",
    "    num = int(\"abc\")\n",
    "except (ValueError, TypeError) as e:\n",
    "    print(f\"Error: {e}\")\n",
    "\n",
    "# Try-except-else-finally\n",
    "def divide(a, b):\n",
    "    try:\n",
    "        result = a / b\n",
    "    except ZeroDivisionError:\n",
    "        print(\"Cannot divide by zero\")\n",
    "        return None\n",
    "    else:\n",
    "        print(\"Division successful\")\n",
    "        return result\n",
    "    finally:\n",
    "        print(\"Cleanup code executed\")\n",
    "\n",
    "print(divide(10, 2))\n",
    "print(divide(10, 0))"
   ]
  },
  {
   "cell_type": "markdown",
   "metadata": {},
   "source": [
    "## 5.2 Custom Exceptions\n",
    "\n",
    "### How to create custom exceptions?\n",
    "\n",
    "**Answer:** Create custom exceptions by inheriting from the Exception class or its subclasses."
   ]
  },
  {
   "cell_type": "code",
   "execution_count": null,
   "metadata": {},
   "outputs": [],
   "source": [
    "# Custom exception\n",
    "class InsufficientFundsError(Exception):\n",
    "    def __init__(self, balance, amount):\n",
    "        self.balance = balance\n",
    "        self.amount = amount\n",
    "        super().__init__(f\"Insufficient funds: balance={balance}, needed={amount}\")\n",
    "\n",
    "class BankAccount:\n",
    "    def __init__(self, balance):\n",
    "        self.balance = balance\n",
    "    \n",
    "    def withdraw(self, amount):\n",
    "        if amount > self.balance:\n",
    "            raise InsufficientFundsError(self.balance, amount)\n",
    "        self.balance -= amount\n",
    "        return self.balance\n",
    "\n",
    "account = BankAccount(100)\n",
    "try:\n",
    "    account.withdraw(150)\n",
    "except InsufficientFundsError as e:\n",
    "    print(f\"Error: {e}\")"
   ]
  },
  {
   "cell_type": "markdown",
   "metadata": {},
   "source": [
    "---\n",
    "# 6. File Handling\n",
    "\n",
    "## 6.1 Reading and Writing Files\n",
    "\n",
    "### How to read and write files in Python?\n",
    "\n",
    "**Answer:** Use the `open()` function with modes: 'r' (read), 'w' (write), 'a' (append), 'r+' (read/write). Always use context managers (with statement) for automatic cleanup."
   ]
  },
  {
   "cell_type": "code",
   "execution_count": null,
   "metadata": {},
   "outputs": [],
   "source": [
    "# Writing to file\n",
    "with open('example.txt', 'w') as f:\n",
    "    f.write(\"Hello, World!\\n\")\n",
    "    f.write(\"Python file handling\\n\")\n",
    "\n",
    "# Reading from file\n",
    "with open('example.txt', 'r') as f:\n",
    "    content = f.read()\n",
    "    print(\"File content:\")\n",
    "    print(content)\n",
    "\n",
    "# Reading line by line\n",
    "with open('example.txt', 'r') as f:\n",
    "    for line in f:\n",
    "        print(line.strip())\n",
    "\n",
    "# Appending to file\n",
    "with open('example.txt', 'a') as f:\n",
    "    f.write(\"Appended line\\n\")\n",
    "\n",
    "# Reading all lines into a list\n",
    "with open('example.txt', 'r') as f:\n",
    "    lines = f.readlines()\n",
    "    print(\"Lines:\", lines)"
   ]
  },
  {
   "cell_type": "markdown",
   "id": "1d381382",
   "metadata": {},
   "source": [
    "## 7. Copying\n",
    "When you copy something in Python, you’re making another variable that refers to the same or a new object in memory.\n",
    "\n",
    "### Shallow Copy \n",
    "Shallow copy makes a new container, but the contents inside are still pointing to the same memory. So, it’s like making a new box, but the items inside are shared between the old and new box."
   ]
  },
  {
   "cell_type": "code",
   "execution_count": null,
   "id": "aaf4edd4",
   "metadata": {},
   "outputs": [],
   "source": [
    "import copy\n",
    "\n",
    "a = [[1, 2], [3, 4]]\n",
    "b = copy.copy(a)  # shallow copy\n",
    "\n",
    "b[0].append(99)\n",
    "\n",
    "print(\"a:\", a)\n",
    "print(\"b:\", b)\n"
   ]
  },
  {
   "cell_type": "markdown",
   "id": "b443f2dc",
   "metadata": {},
   "source": [
    "### Deep Copy\n",
    "Now imagine deep copy like cloning the entire tree — not just the box, but everything inside it, and inside that, and so on. Deep copy creates a completely independent clone of the original object — including all nested objects."
   ]
  },
  {
   "cell_type": "code",
   "execution_count": null,
   "id": "ccade47e",
   "metadata": {},
   "outputs": [],
   "source": [
    "import copy\n",
    "\n",
    "a = [[1, 2], [3, 4]]\n",
    "b = copy.deepcopy(a)  # deep copy\n",
    "\n",
    "b[0].append(99)\n",
    "\n",
    "print(\"a:\", a)\n",
    "print(\"b:\", b)\n"
   ]
  },
  {
   "cell_type": "markdown",
   "id": "00dfb27c",
   "metadata": {},
   "source": [
    "### Use case of shallow vs deep copy?\n",
    "\n",
    "- Shallow copy → when your object contains immutable data (like strings, ints, tuples).\n",
    "→ Faster and memory-efficient.\n",
    "\n",
    "- Deep copy → when your object has nested mutable objects (lists, dicts inside lists, etc.).\n",
    "→ Safer but slower."
   ]
  },
  {
   "cell_type": "markdown",
   "id": "bc277117",
   "metadata": {},
   "source": [
    "## 8. _name==\"main_\"\n",
    "Every Python file automatically gets a built-in variable called __name__.\n",
    "It tells how the file is being used:\n",
    "- If you run the file directly, Python sets __name__ = \"__main__\".\n",
    "- If you import the file into another file, Python sets __name__ = \"<filename>\".\n",
    "- we check if __name__ == \"__main__\":\n",
    "Because we want some code to run only when the file is run directly,\n",
    "and not when it’s imported elsewhere."
   ]
  },
  {
   "cell_type": "code",
   "execution_count": null,
   "id": "a9273d36",
   "metadata": {},
   "outputs": [],
   "source": [
    "# file: greet.py\n",
    "def say_hello():\n",
    "    print(\"Hello!\")\n",
    "\n",
    "if __name__ == \"__main__\":\n",
    "    say_hello()\n"
   ]
  },
  {
   "cell_type": "markdown",
   "id": "1185f1a6",
   "metadata": {},
   "source": [
    "### Real world use case\n",
    "- Prevents code from running during imports.\n",
    "- Keeps reusable parts (functions, classes) separate from executable code.\n",
    "- Common in scripts, tests, and modules."
   ]
  },
  {
   "cell_type": "markdown",
   "id": "90522e50",
   "metadata": {},
   "source": [
    "## 9. Difference between is and == operator\n",
    "\n",
    "### == (Equality Operator)\n",
    "\n",
    "The == operator checks whether the values of two objects are equal, regardless of whether they are stored in the same memory location or not.\n",
    "\n",
    "✅ It calls the special method __eq__() internally to compare the contents of the objects."
   ]
  },
  {
   "cell_type": "code",
   "execution_count": null,
   "id": "62b9b57d",
   "metadata": {},
   "outputs": [],
   "source": [
    "a = [1, 2, 3]\n",
    "b = [1, 2, 3]\n",
    "print(a == b)   # True → values are equal\n"
   ]
  },
  {
   "cell_type": "markdown",
   "id": "22ac215b",
   "metadata": {},
   "source": [
    "### is (Identity Operator)\n",
    "\n",
    "Definition:\n",
    "The is operator checks whether two variables point to the exact same object in memory (i.e., have the same identity).\n",
    "\n",
    "✅ It compares the memory addresses (object IDs) of the two variables, not their values."
   ]
  },
  {
   "cell_type": "code",
   "execution_count": null,
   "id": "9758e077",
   "metadata": {},
   "outputs": [],
   "source": [
    "a = [1, 2, 3]\n",
    "b = [1, 2, 3]\n",
    "print(a is b)   # False → different objects in memory\n"
   ]
  },
  {
   "cell_type": "markdown",
   "id": "8cf4dccf",
   "metadata": {},
   "source": [
    "## 10. Closures\n",
    "A closure is a function that remembers variables from the outer function even after the outer function has finished running."
   ]
  },
  {
   "cell_type": "code",
   "execution_count": null,
   "id": "9fce7622",
   "metadata": {},
   "outputs": [],
   "source": [
    "def outer():\n",
    "    x = 10\n",
    "    def inner():\n",
    "        print(x)\n",
    "    return inner\n",
    "\n",
    "closure_func = outer()\n",
    "closure_func()  # Output: 10\n",
    "# Here, even though outer() has finished,\n",
    "# inner() remembers x = 10. That’s a closure."
   ]
  },
  {
   "cell_type": "markdown",
   "id": "9ceaecf2",
   "metadata": {},
   "source": [
    "### 💼 Real-world use:\n",
    "\n",
    "✅ Useful for decorators, caching, data hiding, and function factories."
   ]
  },
  {
   "cell_type": "code",
   "execution_count": null,
   "id": "65b0e7c0",
   "metadata": {},
   "outputs": [],
   "source": [
    "def multiplier(n):\n",
    "    def inner(x):\n",
    "        return x * n\n",
    "    return inner\n",
    "\n",
    "double = multiplier(2)\n",
    "triple = multiplier(3)\n",
    "\n",
    "print(double(5))  # 10\n",
    "print(triple(5))  # 15\n"
   ]
  },
  {
   "cell_type": "markdown",
   "id": "fca789c1",
   "metadata": {},
   "source": [
    "## 11. Python Scope & LEGB Rule\n",
    "“Scope” means where a variable can be accessed inside your code.\n",
    "Python follows the LEGB rule to find variables in this order:\n",
    "\n",
    "L → Local → Enclosing → Global → Built-in"
   ]
  },
  {
   "cell_type": "code",
   "execution_count": null,
   "id": "f04951f1",
   "metadata": {},
   "outputs": [],
   "source": [
    "x = \"global\"\n",
    "\n",
    "def outer():\n",
    "    x = \"enclosing\"\n",
    "    def inner():\n",
    "        x = \"local\"\n",
    "        print(x)\n",
    "    inner()\n",
    "\n",
    "outer()\n"
   ]
  },
  {
   "cell_type": "markdown",
   "id": "1bd4b176",
   "metadata": {},
   "source": [
    "### Python looks for x in this order:\n",
    "\n",
    "- Local → inside current function (inner)\n",
    "\n",
    "- Enclosing → in outer functions\n",
    "\n",
    "- Global → top-level of the script\n",
    "\n",
    "- Built-in → predefined Python names (print, len, etc.)\n",
    "\n",
    "### 💼 Real-world use:\n",
    "You might have a function inside another (e.g., helper function inside an API handler).\n",
    "Understanding scopes prevents variable overwriting or unintended shadowing."
   ]
  },
  {
   "cell_type": "markdown",
   "id": "a791f55b",
   "metadata": {},
   "source": [
    "## 12. Concurrency\n",
    "\n",
    "Concurrency means doing multiple tasks seemingly at the same time.\n",
    "Python provides 3 main tools for this:\n",
    "\n",
    "- Multithreading\n",
    "\n",
    "- Multiprocessing\n",
    "\n",
    "- AsyncIO\n",
    "\n",
    "### A. Multithreading\n",
    "Multiple threads share the same memory space and run parts of a program concurrently."
   ]
  },
  {
   "cell_type": "code",
   "execution_count": null,
   "id": "d91b4c53",
   "metadata": {},
   "outputs": [],
   "source": [
    "import threading\n",
    "import time\n",
    "\n",
    "def task(name):\n",
    "    print(f\"{name} starting\")\n",
    "    time.sleep(2)\n",
    "    print(f\"{name} done\")\n",
    "\n",
    "t1 = threading.Thread(target=task, args=(\"Thread 1\",))\n",
    "t2 = threading.Thread(target=task, args=(\"Thread 2\",))\n",
    "\n",
    "t1.start()\n",
    "t2.start()\n",
    "t1.join(); t2.join()\n",
    "# Both threads run together — great for I/O-bound tasks like downloading files."
   ]
  },
  {
   "cell_type": "markdown",
   "id": "1f42be5f",
   "metadata": {},
   "source": [
    "### Real world use case\n",
    "- Good for I/O-bound tasks\n",
    "\n",
    "- Not good for CPU-bound tasks"
   ]
  },
  {
   "cell_type": "markdown",
   "id": "ec6c2565",
   "metadata": {},
   "source": [
    "### B. Multiprocessing\n",
    "Runs multiple processes, each with its own Python interpreter and memory — bypasses the GIL."
   ]
  },
  {
   "cell_type": "code",
   "execution_count": null,
   "id": "ce7925f6",
   "metadata": {},
   "outputs": [],
   "source": [
    "from multiprocessing import Process\n",
    "\n",
    "def work(n):\n",
    "    print(f\"Working {n}\")\n",
    "\n",
    "if __name__ == \"__main__\":\n",
    "    p1 = Process(target=work, args=(1,))\n",
    "    p2 = Process(target=work, args=(2,))\n",
    "    p1.start(); p2.start()\n",
    "    p1.join(); p2.join()\n"
   ]
  },
  {
   "cell_type": "markdown",
   "id": "3433cb7c",
   "metadata": {},
   "source": [
    "Great for CPU-heavy work like image processing or ML model training."
   ]
  },
  {
   "cell_type": "markdown",
   "id": "831dacb9",
   "metadata": {},
   "source": [
    "### C. AsyncIO\n",
    "Asynchronous I/O uses a single thread but switches between tasks while waiting for I/O."
   ]
  },
  {
   "cell_type": "code",
   "execution_count": null,
   "id": "c22aa8be",
   "metadata": {},
   "outputs": [],
   "source": [
    "import asyncio\n",
    "\n",
    "async def task(name):\n",
    "    print(f\"{name} starting\")\n",
    "    await asyncio.sleep(2)\n",
    "    print(f\"{name} done\")\n",
    "\n",
    "async def main():\n",
    "    await asyncio.gather(task(\"A\"), task(\"B\"))\n",
    "\n",
    "asyncio.run(main())\n"
   ]
  },
  {
   "cell_type": "markdown",
   "id": "be30e604",
   "metadata": {},
   "source": [
    "Perfect for network I/O (web requests, sockets)."
   ]
  },
  {
   "cell_type": "markdown",
   "id": "5d6a9ad7",
   "metadata": {},
   "source": [
    "### D. ThreadPoolExecutor\n",
    "A high-level API to manage thread pools easily."
   ]
  },
  {
   "cell_type": "code",
   "execution_count": null,
   "id": "8e32cb93",
   "metadata": {},
   "outputs": [],
   "source": [
    "from concurrent.futures import ThreadPoolExecutor\n",
    "import time\n",
    "\n",
    "def work(n):\n",
    "    time.sleep(1)\n",
    "    return f\"Done {n}\"\n",
    "\n",
    "with ThreadPoolExecutor(max_workers=2) as executor:\n",
    "    results = executor.map(work, [1, 2, 3])\n",
    "    for r in results:\n",
    "        print(r)\n"
   ]
  },
  {
   "cell_type": "markdown",
   "id": "7b9fc11e",
   "metadata": {},
   "source": [
    "Automatically manages threads efficiently."
   ]
  },
  {
   "cell_type": "markdown",
   "id": "b1ce0935",
   "metadata": {},
   "source": [
    "## 13. Descriptors\n",
    "A descriptor is an object that controls how attributes are accessed, set, or deleted.\n",
    "\n",
    "They implement any of these methods:\n",
    "\n",
    "- __get__()\n",
    "\n",
    "- __set__()\n",
    "\n",
    "- __delete__()"
   ]
  },
  {
   "cell_type": "code",
   "execution_count": null,
   "id": "cca4a5bb",
   "metadata": {},
   "outputs": [],
   "source": [
    "class Celsius:\n",
    "    def __init__(self, value=0):\n",
    "        self._value = value\n",
    "\n",
    "    def __get__(self, obj, objtype=None):\n",
    "        return self._value\n",
    "\n",
    "    def __set__(self, obj, value):\n",
    "        if value < -273:\n",
    "            raise ValueError(\"Below absolute zero!\")\n",
    "        self._value = value\n",
    "\n",
    "class Temperature:\n",
    "    celsius = Celsius()\n",
    "\n",
    "temp = Temperature()\n",
    "temp.celsius = 25\n",
    "print(temp.celsius)  # 25\n"
   ]
  },
  {
   "cell_type": "markdown",
   "id": "4c17bc82",
   "metadata": {},
   "source": [
    "Used in property management, ORM fields (like Django models)."
   ]
  },
  {
   "cell_type": "markdown",
   "id": "d7df0dee",
   "metadata": {},
   "source": [
    "## 14. Higher Order Functions\n",
    "Functions that take another function as input or return a function."
   ]
  },
  {
   "cell_type": "code",
   "execution_count": null,
   "id": "a6e16878",
   "metadata": {},
   "outputs": [],
   "source": [
    "def greet(name):\n",
    "    return f\"Hello {name}\"\n",
    "\n",
    "def loud(func):\n",
    "    def wrapper(name):\n",
    "        return func(name).upper()\n",
    "    return wrapper\n",
    "\n",
    "shout = loud(greet)\n",
    "print(shout(\"Alice\"))  # HELLO ALICE\n"
   ]
  },
  {
   "cell_type": "markdown",
   "id": "2490de95",
   "metadata": {},
   "source": [
    "Foundation for decorators and functional programming."
   ]
  },
  {
   "cell_type": "markdown",
   "id": "db12ed1d",
   "metadata": {},
   "source": [
    "## 15. Lambda, Map, Filter, Reduce\n",
    "### 1. Lambda\n",
    "Anonymous one-line function."
   ]
  },
  {
   "cell_type": "code",
   "execution_count": null,
   "id": "fa20fc0b",
   "metadata": {},
   "outputs": [],
   "source": [
    "add = lambda a, b: a + b\n",
    "print(add(2, 3))\n"
   ]
  },
  {
   "cell_type": "markdown",
   "id": "ae809c48",
   "metadata": {},
   "source": [
    "### 2. Map\n",
    "Applies a function to every element."
   ]
  },
  {
   "cell_type": "code",
   "execution_count": null,
   "id": "495fcdee",
   "metadata": {},
   "outputs": [],
   "source": [
    "nums = [1, 2, 3]\n",
    "squares = list(map(lambda x: x**2, nums))\n",
    "print(squares)\n"
   ]
  },
  {
   "cell_type": "markdown",
   "id": "3ff42a91",
   "metadata": {},
   "source": [
    "### 3. Filter\n",
    "\n",
    "Keeps only elements that return True."
   ]
  },
  {
   "cell_type": "code",
   "execution_count": null,
   "id": "b6c7cf0a",
   "metadata": {},
   "outputs": [],
   "source": [
    "even = list(filter(lambda x: x % 2 == 0, nums))\n",
    "print(even)\n"
   ]
  },
  {
   "cell_type": "markdown",
   "id": "75ca9c0c",
   "metadata": {},
   "source": [
    "### 4. Reduce\n",
    "\n",
    "Reduces a list to a single value."
   ]
  },
  {
   "cell_type": "code",
   "execution_count": null,
   "id": "0d5d3ce2",
   "metadata": {},
   "outputs": [],
   "source": [
    "from functools import reduce\n",
    "total = reduce(lambda a, b: a + b, nums)\n",
    "print(total)\n"
   ]
  },
  {
   "cell_type": "markdown",
   "id": "89faf381",
   "metadata": {},
   "source": [
    "Used in data pipelines, functional programming, and quick transformations."
   ]
  },
  {
   "cell_type": "markdown",
   "id": "bb278648",
   "metadata": {},
   "source": [
    "## 16. Mixins \n",
    "A Mixin is a class that provides extra functionality but is not meant to stand alone."
   ]
  },
  {
   "cell_type": "code",
   "execution_count": null,
   "id": "3cbdc1d7",
   "metadata": {},
   "outputs": [],
   "source": [
    "class LogMixin:\n",
    "    def log(self, message):\n",
    "        print(f\"[LOG] {message}\")\n",
    "\n",
    "class User(LogMixin):\n",
    "    def save(self):\n",
    "        self.log(\"User saved!\")\n",
    "\n",
    "u = User()\n",
    "u.save()\n"
   ]
  },
  {
   "cell_type": "markdown",
   "id": "f5341e99",
   "metadata": {},
   "source": [
    "Adds reusable behavior to multiple classes without inheritance complexity."
   ]
  },
  {
   "cell_type": "markdown",
   "id": "63d9f06b",
   "metadata": {},
   "source": [
    "## 17. Design Patterns\n",
    "Reusable solutions to common software design problems.\n",
    "\n",
    "### 1. Singleton Pattern\n",
    "\n",
    "Ensure only one instance of a class exists."
   ]
  },
  {
   "cell_type": "code",
   "execution_count": null,
   "id": "4e97c8f3",
   "metadata": {},
   "outputs": [],
   "source": [
    "class Singleton:\n",
    "    _instance = None\n",
    "    def __new__(cls):\n",
    "        if not cls._instance:\n",
    "            cls._instance = super().__new__(cls)\n",
    "        return cls._instance\n",
    "\n",
    "a = Singleton()\n",
    "b = Singleton()\n",
    "print(a is b)  # True\n"
   ]
  },
  {
   "cell_type": "markdown",
   "id": "36efe632",
   "metadata": {},
   "source": [
    "Used for database connections, logging, etc."
   ]
  },
  {
   "cell_type": "markdown",
   "id": "00b1ac73",
   "metadata": {},
   "source": [
    "### 2. Factory Pattern\n",
    "\n",
    "Creates objects without exposing creation logic."
   ]
  },
  {
   "cell_type": "code",
   "execution_count": null,
   "id": "2d636bb2",
   "metadata": {},
   "outputs": [],
   "source": [
    "class Dog: pass\n",
    "class Cat: pass\n",
    "\n",
    "def animal_factory(type):\n",
    "    if type == \"dog\": return Dog()\n",
    "    if type == \"cat\": return Cat()\n",
    "\n",
    "pet = animal_factory(\"dog\")\n",
    "print(isinstance(pet, Dog))\n"
   ]
  },
  {
   "cell_type": "markdown",
   "id": "87eb03bc",
   "metadata": {},
   "source": [
    "Used when object creation logic changes frequently."
   ]
  },
  {
   "cell_type": "markdown",
   "id": "3bd63712",
   "metadata": {},
   "source": [
    "## 18. requests Library\n",
    "A library to make HTTP requests easily in Python."
   ]
  },
  {
   "cell_type": "code",
   "execution_count": null,
   "id": "05eeeb74",
   "metadata": {},
   "outputs": [],
   "source": [
    "import requests\n",
    "\n",
    "response = requests.get(\"https://api.github.com\")\n",
    "print(response.status_code)\n",
    "print(response.json())\n"
   ]
  },
  {
   "cell_type": "markdown",
   "id": "e05b385a",
   "metadata": {},
   "source": [
    "### Real world use\n",
    "Used for APIs, web scraping, automation. Simpler alternative to urllib, heavily used in REST APIs."
   ]
  },
  {
   "cell_type": "code",
   "execution_count": null,
   "id": "0b728c5a",
   "metadata": {},
   "outputs": [],
   "source": [
    "data = {\"name\": \"Alice\"}\n",
    "res = requests.post(\"https://example.com/api\", json=data)\n",
    "print(res.json())\n"
   ]
  },
  {
   "cell_type": "markdown",
   "id": "500b60de",
   "metadata": {},
   "source": [
    "## 19. Pandas\n",
    "Pandas is a Python library for working with data — especially tables (like Excel sheets).\n",
    "It helps you store, clean, analyze, and transform data easily. It’s like a smart Excel inside Python that understands tables, rows, and columns. Used in data science, machine learning, and data cleaning tasks."
   ]
  },
  {
   "cell_type": "markdown",
   "id": "dc3ff93f",
   "metadata": {},
   "source": [
    "### Main Datatypes of Pandas\n",
    "1. Series-\n",
    "A Series is like a single column in an Excel sheet — it has data and an index (like row numbers)."
   ]
  },
  {
   "cell_type": "code",
   "execution_count": null,
   "id": "29e7e454",
   "metadata": {},
   "outputs": [],
   "source": [
    "import pandas as pd\n",
    "s = pd.Series([10, 20, 30])\n",
    "print(s)\n"
   ]
  },
  {
   "cell_type": "markdown",
   "id": "4c60fd48",
   "metadata": {},
   "source": [
    "2. DataFrame-\n",
    "A DataFrame is like a whole Excel sheet — it’s made up of many Series (columns).\n",
    "Each column can hold different data types (numbers, text, etc.)."
   ]
  },
  {
   "cell_type": "code",
   "execution_count": null,
   "id": "f108bb1f",
   "metadata": {},
   "outputs": [],
   "source": [
    "import pandas as pd\n",
    "data = {\n",
    "    'Name': ['John', 'Alice', 'Bob'],\n",
    "    'Age': [25, 30, 22]\n",
    "}\n",
    "df = pd.DataFrame(data)\n",
    "print(df)\n"
   ]
  },
  {
   "cell_type": "markdown",
   "id": "305dc33c",
   "metadata": {},
   "source": [
    "### Index\n",
    "An index in Pandas is like a row label — it helps Pandas identify each row.\n",
    "(Think of it as row numbers in Excel, but more powerful.)"
   ]
  },
  {
   "cell_type": "markdown",
   "id": "f4e3879c",
   "metadata": {},
   "source": [
    "### Reading Data\n",
    "Pandas can read data from many sources like CSV, Excel, JSON, SQL, etc."
   ]
  },
  {
   "cell_type": "code",
   "execution_count": null,
   "id": "e3e2659e",
   "metadata": {},
   "outputs": [],
   "source": [
    "df = pd.read_csv('data.csv')\n"
   ]
  },
  {
   "cell_type": "markdown",
   "id": "590aa787",
   "metadata": {},
   "source": [
    "### Viewing Data\n",
    "Pandas gives functions to quickly see your data:\n",
    "\n",
    "- head() → first 5 rows\n",
    "\n",
    "- tail() → last 5 rows\n",
    "\n",
    "- info() → structure of data\n",
    "\n",
    "- describe() → statistics of numeric columns"
   ]
  },
  {
   "cell_type": "code",
   "execution_count": null,
   "id": "a0576088",
   "metadata": {},
   "outputs": [],
   "source": [
    "df.head()\n",
    "df.info()\n"
   ]
  },
  {
   "cell_type": "markdown",
   "id": "fe7d8f98",
   "metadata": {},
   "source": [
    "### Selecting Data\n",
    "You can pick out specific columns or rows from a DataFrame."
   ]
  },
  {
   "cell_type": "code",
   "execution_count": null,
   "id": "a6487b63",
   "metadata": {},
   "outputs": [],
   "source": [
    "df['Name']          # select one column\n",
    "df[['Name', 'Age']] # select multiple columns\n",
    "df.iloc[0]          # select by row index\n",
    "df.loc[1, 'Name']   # select by label\n"
   ]
  },
  {
   "cell_type": "markdown",
   "id": "6c61d7bd",
   "metadata": {},
   "source": [
    "### Filtering Data\n",
    "You can filter rows based on conditions."
   ]
  },
  {
   "cell_type": "code",
   "execution_count": null,
   "id": "a002c0fd",
   "metadata": {},
   "outputs": [],
   "source": [
    "df[df['Age'] > 25]\n",
    "# Shows only rows where age is greater than 25."
   ]
  },
  {
   "cell_type": "markdown",
   "id": "8343f32a",
   "metadata": {},
   "source": [
    "## 20 CSV (Comma-Separated Values)\n",
    "A CSV file stores data in rows and columns, separated by commas.\n",
    "It’s just plain text — easy for both humans and machines to read.\n",
    "\n",
    "Think of it like an Excel sheet without colors and formatting.\n",
    "\n",
    "### Use Case:\n",
    "\n",
    "- Used to store data like employee records, sales, or student marks.\n",
    "\n",
    "- Used to import/export data between Excel, databases, or Python programs."
   ]
  },
  {
   "cell_type": "markdown",
   "id": "f82d71bb",
   "metadata": {},
   "source": [
    "Imagine this students.csv file:"
   ]
  },
  {
   "cell_type": "code",
   "execution_count": null,
   "id": "cf3ebbb0",
   "metadata": {},
   "outputs": [],
   "source": [
    "Name,Age,Marks\n",
    "Alice,20,88\n",
    "Bob,21,75\n",
    "Charlie,19,92\n"
   ]
  },
  {
   "cell_type": "markdown",
   "id": "bac73ec6",
   "metadata": {},
   "source": [
    "### Read CSV with Pandas\n"
   ]
  },
  {
   "cell_type": "code",
   "execution_count": null,
   "id": "3e48f3c4",
   "metadata": {},
   "outputs": [],
   "source": [
    "import pandas as pd\n",
    "\n",
    "df = pd.read_csv('students.csv')\n",
    "print(df)\n"
   ]
  },
  {
   "cell_type": "markdown",
   "id": "bb4acc80",
   "metadata": {},
   "source": [
    "## 21. JSON (JavaScript Object Notation)\n",
    "JSON is a lightweight data format used to store and exchange data — especially between web servers and applications.\n",
    "It looks like Python dictionaries but uses text.\n",
    "\n",
    "### Use Case:\n",
    "\n",
    "- Used in APIs and web communication (e.g., when a server sends data to your app).\n",
    "\n",
    "- Used to store structured data like configurations or user profiles."
   ]
  },
  {
   "cell_type": "code",
   "execution_count": null,
   "id": "ecf56e99",
   "metadata": {},
   "outputs": [],
   "source": [
    "{\n",
    "  \"name\": \"Alice\",\n",
    "  \"age\": 20,\n",
    "  \"marks\": [88, 92, 95]\n",
    "}\n"
   ]
  },
  {
   "cell_type": "markdown",
   "id": "03375fab",
   "metadata": {},
   "source": [
    "### Working with json in Python"
   ]
  },
  {
   "cell_type": "code",
   "execution_count": null,
   "id": "3c395778",
   "metadata": {},
   "outputs": [],
   "source": [
    "import json\n",
    "\n",
    "# Reading JSON file\n",
    "with open('data.json', 'r') as file:\n",
    "    data = json.load(file)\n",
    "print(data)\n"
   ]
  },
  {
   "cell_type": "markdown",
   "id": "f2fac699",
   "metadata": {},
   "source": [
    "## 22. Pickling & Unpickling (Serialization & Deserialization)\n",
    "Pickling means converting a Python object (like a list, dictionary, or custom class) into a binary stream (a series of bytes) so that it can be saved to a file or sent over a network.\n",
    "Unpickling means converting that binary stream back into a Python object.\n",
    "\n",
    "### Use Case:\n",
    "\n",
    "- When you want to save a trained ML model or cache Python objects.\n",
    "\n",
    "- When you want to send Python data between programs."
   ]
  },
  {
   "cell_type": "code",
   "execution_count": null,
   "id": "3be8322d",
   "metadata": {},
   "outputs": [],
   "source": [
    "import pickle\n",
    "\n",
    "data = {'name': 'Alice', 'age': 20, 'marks': [88, 92, 95]}\n",
    "\n",
    "# Pickling (Serialization)\n",
    "with open('data.pkl', 'wb') as file:\n",
    "    pickle.dump(data, file)\n",
    "\n",
    "# Unpickling (Deserialization)\n",
    "with open('data.pkl', 'rb') as file:\n",
    "    loaded_data = pickle.load(file)\n",
    "\n",
    "print(loaded_data)\n"
   ]
  },
  {
   "cell_type": "markdown",
   "id": "77fc2583",
   "metadata": {},
   "source": [
    "### Tip \n",
    "Pickle is Python-specific — the file it creates can only be read by Python.\n",
    "If you want a cross-language data format, use JSON instead."
   ]
  },
  {
   "cell_type": "markdown",
   "id": "3976d710",
   "metadata": {},
   "source": [
    "### A. Serialization — Simple Definition\n",
    "\n",
    "Serialization means converting a Python object into a format that can be stored or sent.\n",
    "It’s like packing your Python object into a box so you can save it to a file or send it over the internet.\n",
    "\n",
    "#### Turning a Python dictionary into bytes or JSON text.\n",
    "\n",
    "### B. Deserialization — Simple Definition\n",
    "Deserialization means unpacking that stored or sent data back into a Python object.\n",
    " It’s like opening the box to get your original object back."
   ]
  },
  {
   "cell_type": "code",
   "execution_count": null,
   "id": "0f182e76",
   "metadata": {},
   "outputs": [],
   "source": [
    "import pickle\n",
    "\n",
    "data = {'name': 'Alice', 'age': 20}\n",
    "\n",
    "# Serialization\n",
    "with open('data.pkl', 'wb') as file:\n",
    "    pickle.dump(data, file)\n",
    "\n",
    "# Deserialization\n",
    "with open('data.pkl', 'rb') as file:\n",
    "    loaded = pickle.load(file)\n",
    "\n",
    "print(loaded)\n"
   ]
  },
  {
   "cell_type": "markdown",
   "id": "2fda1eff",
   "metadata": {},
   "source": [
    "- pickle.dump() → Serialization\n",
    "- pickle.load() → Deserialization"
   ]
  }
 ],
 "metadata": {
  "kernelspec": {
   "display_name": "Python 3",
   "language": "python",
   "name": "python3"
  },
  "language_info": {
   "codemirror_mode": {
    "name": "ipython",
    "version": 3
   },
   "file_extension": ".py",
   "mimetype": "text/x-python",
   "name": "python",
   "nbconvert_exporter": "python",
   "pygments_lexer": "ipython3",
   "version": "3.13.7"
  }
 },
 "nbformat": 4,
 "nbformat_minor": 5
}
